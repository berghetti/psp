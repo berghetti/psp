{
 "cells": [
  {
   "cell_type": "code",
   "execution_count": 1,
   "metadata": {},
   "outputs": [],
   "source": [
    "%matplotlib widget\n",
    "# %matplotlib notebook\n",
    "import sys\n",
    "import seaborn as sns\n",
    "import matplotlib\n",
    "import matplotlib.gridspec as gridspec\n",
    "import matplotlib.pyplot as plt\n",
    "import matplotlib.colors as mcolors\n",
    "from matplotlib.ticker import ScalarFormatter\n",
    "from matplotlib import lines\n",
    "import pandas as pd\n",
    "import numpy as np\n",
    "from pathlib import Path\n",
    "from loader import *\n",
    "from plot import *"
   ]
  },
  {
   "cell_type": "markdown",
   "metadata": {},
   "source": [
    "# Figure 3"
   ]
  },
  {
   "cell_type": "code",
   "execution_count": 2,
   "metadata": {
    "scrolled": false
   },
   "outputs": [],
   "source": [
    "# add > /dev/null to suppress output\n",
    "# !/psp/Shremote_cfgs/run.py 0 psp DISP2 -p DARC CFCFS DFCFS\n",
    "!cp /psp/experiments/Figure3 /psp/experiments/DISP2"
   ]
  },
  {
   "cell_type": "code",
   "execution_count": null,
   "metadata": {
    "scrolled": false
   },
   "outputs": [
    {
     "name": "stdout",
     "output_type": "stream",
     "text": [
      "Automatic pdb calling has been turned ON\n"
     ]
    },
    {
     "ename": "NameError",
     "evalue": "name 'policies' is not defined",
     "output_type": "error",
     "traceback": [
      "\u001b[0;31m---------------------------------------------------------------------------\u001b[0m",
      "\u001b[0;31mNameError\u001b[0m                                 Traceback (most recent call last)",
      "\u001b[0;32m<ipython-input-3-7e00fc60716b>\u001b[0m in \u001b[0;36m<module>\u001b[0;34m\u001b[0m\n\u001b[1;32m      1\u001b[0m \u001b[0mget_ipython\u001b[0m\u001b[0;34m(\u001b[0m\u001b[0;34m)\u001b[0m\u001b[0;34m.\u001b[0m\u001b[0mrun_line_magic\u001b[0m\u001b[0;34m(\u001b[0m\u001b[0;34m'pdb'\u001b[0m\u001b[0;34m,\u001b[0m \u001b[0;34m'on'\u001b[0m\u001b[0;34m)\u001b[0m\u001b[0;34m\u001b[0m\u001b[0;34m\u001b[0m\u001b[0m\n\u001b[1;32m      2\u001b[0m \u001b[0mdistros\u001b[0m \u001b[0;34m=\u001b[0m \u001b[0;34m[\u001b[0m\u001b[0;34m'DISP2'\u001b[0m\u001b[0;34m]\u001b[0m\u001b[0;34m\u001b[0m\u001b[0;34m\u001b[0m\u001b[0m\n\u001b[0;32m----> 3\u001b[0;31m \u001b[0mplot_p99s\u001b[0m\u001b[0;34m(\u001b[0m\u001b[0mdistros\u001b[0m\u001b[0;34m,\u001b[0m \u001b[0mapp\u001b[0m\u001b[0;34m=\u001b[0m\u001b[0;34m'MB'\u001b[0m\u001b[0;34m,\u001b[0m \u001b[0mreset_cache\u001b[0m\u001b[0;34m=\u001b[0m\u001b[0;32mFalse\u001b[0m\u001b[0;34m,\u001b[0m \u001b[0muse_ylim\u001b[0m\u001b[0;34m=\u001b[0m\u001b[0;32mTrue\u001b[0m\u001b[0;34m,\u001b[0m \u001b[0mclients\u001b[0m\u001b[0;34m=\u001b[0m\u001b[0;34m[\u001b[0m\u001b[0;36m0\u001b[0m\u001b[0;34m,\u001b[0m\u001b[0;36m1\u001b[0m\u001b[0;34m,\u001b[0m\u001b[0;36m2\u001b[0m\u001b[0;34m,\u001b[0m\u001b[0;36m3\u001b[0m\u001b[0;34m,\u001b[0m\u001b[0;36m4\u001b[0m\u001b[0;34m,\u001b[0m\u001b[0;36m5\u001b[0m\u001b[0;34m]\u001b[0m\u001b[0;34m,\u001b[0m \u001b[0mvalue\u001b[0m\u001b[0;34m=\u001b[0m\u001b[0;34m\"p99.9\"\u001b[0m\u001b[0;34m,\u001b[0m \u001b[0mclose_all\u001b[0m\u001b[0;34m=\u001b[0m\u001b[0;32mTrue\u001b[0m\u001b[0;34m,\u001b[0m \u001b[0mremove_drops\u001b[0m\u001b[0;34m=\u001b[0m\u001b[0;32mTrue\u001b[0m\u001b[0;34m,\u001b[0m \u001b[0madd_shen\u001b[0m\u001b[0;34m=\u001b[0m\u001b[0;32mFalse\u001b[0m\u001b[0;34m)\u001b[0m\u001b[0;34m\u001b[0m\u001b[0;34m\u001b[0m\u001b[0m\n\u001b[0m",
      "\u001b[0;32m/psp/sosp_aec/plot.py\u001b[0m in \u001b[0;36mplot_p99s\u001b[0;34m(distros, app, value, use_ylim, close_all, add_shen, **kwargs)\u001b[0m\n\u001b[1;32m     96\u001b[0m     \u001b[0;32mif\u001b[0m \u001b[0mclose_all\u001b[0m\u001b[0;34m:\u001b[0m\u001b[0;34m\u001b[0m\u001b[0;34m\u001b[0m\u001b[0m\n\u001b[1;32m     97\u001b[0m         \u001b[0mplt\u001b[0m\u001b[0;34m.\u001b[0m\u001b[0mclose\u001b[0m\u001b[0;34m(\u001b[0m\u001b[0;34m'all'\u001b[0m\u001b[0;34m)\u001b[0m\u001b[0;34m\u001b[0m\u001b[0;34m\u001b[0m\u001b[0m\n\u001b[0;32m---> 98\u001b[0;31m     \u001b[0mcolors\u001b[0m \u001b[0;34m=\u001b[0m \u001b[0mlist\u001b[0m\u001b[0;34m(\u001b[0m\u001b[0mmcolors\u001b[0m\u001b[0;34m.\u001b[0m\u001b[0mTABLEAU_COLORS\u001b[0m\u001b[0;34m.\u001b[0m\u001b[0mkeys\u001b[0m\u001b[0;34m(\u001b[0m\u001b[0;34m)\u001b[0m\u001b[0;34m)\u001b[0m\u001b[0;34m[\u001b[0m\u001b[0;34m:\u001b[0m\u001b[0mlen\u001b[0m\u001b[0;34m(\u001b[0m\u001b[0mpolicies\u001b[0m\u001b[0;34m)\u001b[0m\u001b[0;34m]\u001b[0m\u001b[0;34m\u001b[0m\u001b[0;34m\u001b[0m\u001b[0m\n\u001b[0m\u001b[1;32m     99\u001b[0m     \u001b[0mcolors\u001b[0m\u001b[0;34m[\u001b[0m\u001b[0;36m6\u001b[0m\u001b[0;34m]\u001b[0m \u001b[0;34m=\u001b[0m \u001b[0;34m'tab:gray'\u001b[0m\u001b[0;34m\u001b[0m\u001b[0;34m\u001b[0m\u001b[0m\n\u001b[1;32m    100\u001b[0m     \u001b[0mmarkers\u001b[0m \u001b[0;34m=\u001b[0m \u001b[0;34m[\u001b[0m\u001b[0;34m'D'\u001b[0m\u001b[0;34m,\u001b[0m \u001b[0;34m'^'\u001b[0m\u001b[0;34m,\u001b[0m \u001b[0;34m'o'\u001b[0m\u001b[0;34m,\u001b[0m \u001b[0;34m'v'\u001b[0m\u001b[0;34m,\u001b[0m \u001b[0;34m'<'\u001b[0m\u001b[0;34m,\u001b[0m \u001b[0;34m'>'\u001b[0m\u001b[0;34m,\u001b[0m \u001b[0;34m'p'\u001b[0m\u001b[0;34m,\u001b[0m \u001b[0;34m'h'\u001b[0m\u001b[0;34m,\u001b[0m \u001b[0;34m'X'\u001b[0m\u001b[0;34m,\u001b[0m \u001b[0;34m'+'\u001b[0m\u001b[0;34m]\u001b[0m\u001b[0;34m[\u001b[0m\u001b[0;34m:\u001b[0m\u001b[0mlen\u001b[0m\u001b[0;34m(\u001b[0m\u001b[0mpolicies\u001b[0m\u001b[0;34m)\u001b[0m\u001b[0;34m]\u001b[0m\u001b[0;34m\u001b[0m\u001b[0;34m\u001b[0m\u001b[0m\n",
      "\u001b[0;31mNameError\u001b[0m: name 'policies' is not defined"
     ]
    },
    {
     "name": "stdout",
     "output_type": "stream",
     "text": [
      "> \u001b[0;32m/psp/sosp_aec/plot.py\u001b[0m(98)\u001b[0;36mplot_p99s\u001b[0;34m()\u001b[0m\n",
      "\u001b[0;32m     96 \u001b[0;31m    \u001b[0;32mif\u001b[0m \u001b[0mclose_all\u001b[0m\u001b[0;34m:\u001b[0m\u001b[0;34m\u001b[0m\u001b[0;34m\u001b[0m\u001b[0m\n",
      "\u001b[0m\u001b[0;32m     97 \u001b[0;31m        \u001b[0mplt\u001b[0m\u001b[0;34m.\u001b[0m\u001b[0mclose\u001b[0m\u001b[0;34m(\u001b[0m\u001b[0;34m'all'\u001b[0m\u001b[0;34m)\u001b[0m\u001b[0;34m\u001b[0m\u001b[0;34m\u001b[0m\u001b[0m\n",
      "\u001b[0m\u001b[0;32m---> 98 \u001b[0;31m    \u001b[0mcolors\u001b[0m \u001b[0;34m=\u001b[0m \u001b[0mlist\u001b[0m\u001b[0;34m(\u001b[0m\u001b[0mmcolors\u001b[0m\u001b[0;34m.\u001b[0m\u001b[0mTABLEAU_COLORS\u001b[0m\u001b[0;34m.\u001b[0m\u001b[0mkeys\u001b[0m\u001b[0;34m(\u001b[0m\u001b[0;34m)\u001b[0m\u001b[0;34m)\u001b[0m\u001b[0;34m[\u001b[0m\u001b[0;34m:\u001b[0m\u001b[0mlen\u001b[0m\u001b[0;34m(\u001b[0m\u001b[0mpolicies\u001b[0m\u001b[0;34m)\u001b[0m\u001b[0;34m]\u001b[0m\u001b[0;34m\u001b[0m\u001b[0;34m\u001b[0m\u001b[0m\n",
      "\u001b[0m\u001b[0;32m     99 \u001b[0;31m    \u001b[0mcolors\u001b[0m\u001b[0;34m[\u001b[0m\u001b[0;36m6\u001b[0m\u001b[0;34m]\u001b[0m \u001b[0;34m=\u001b[0m \u001b[0;34m'tab:gray'\u001b[0m\u001b[0;34m\u001b[0m\u001b[0;34m\u001b[0m\u001b[0m\n",
      "\u001b[0m\u001b[0;32m    100 \u001b[0;31m    \u001b[0mmarkers\u001b[0m \u001b[0;34m=\u001b[0m \u001b[0;34m[\u001b[0m\u001b[0;34m'D'\u001b[0m\u001b[0;34m,\u001b[0m \u001b[0;34m'^'\u001b[0m\u001b[0;34m,\u001b[0m \u001b[0;34m'o'\u001b[0m\u001b[0;34m,\u001b[0m \u001b[0;34m'v'\u001b[0m\u001b[0;34m,\u001b[0m \u001b[0;34m'<'\u001b[0m\u001b[0;34m,\u001b[0m \u001b[0;34m'>'\u001b[0m\u001b[0;34m,\u001b[0m \u001b[0;34m'p'\u001b[0m\u001b[0;34m,\u001b[0m \u001b[0;34m'h'\u001b[0m\u001b[0;34m,\u001b[0m \u001b[0;34m'X'\u001b[0m\u001b[0;34m,\u001b[0m \u001b[0;34m'+'\u001b[0m\u001b[0;34m]\u001b[0m\u001b[0;34m[\u001b[0m\u001b[0;34m:\u001b[0m\u001b[0mlen\u001b[0m\u001b[0;34m(\u001b[0m\u001b[0mpolicies\u001b[0m\u001b[0;34m)\u001b[0m\u001b[0;34m]\u001b[0m\u001b[0;34m\u001b[0m\u001b[0;34m\u001b[0m\u001b[0m\n",
      "\u001b[0m\n"
     ]
    }
   ],
   "source": [
    "%pdb on\n",
    "distros = ['DISP2']\n",
    "plot_p99s(distros, app='MB', reset_cache=False, use_ylim=True, clients=[0,1,2,3,4,5], value=\"p99.9\", close_all=True, remove_drops=True, add_shen=False)"
   ]
  },
  {
   "cell_type": "code",
   "execution_count": 21,
   "metadata": {},
   "outputs": [
    {
     "data": {
      "application/vnd.jupyter.widget-view+json": {
       "model_id": "d69fb25883654a859f7feca1df74256d",
       "version_major": 2,
       "version_minor": 0
      },
      "text/plain": [
       "Canvas(toolbar=Toolbar(toolitems=[('Home', 'Reset original view', 'home', 'home'), ('Back', 'Back to previous …"
      ]
     },
     "metadata": {},
     "output_type": "display_data"
    }
   ],
   "source": [
    "plt.close('all')\n",
    "lat_df = (cache['DYN-RESA_0.80_sched4_14.38']['alloc'].END - cache['DYN-RESA_0.80_sched4_14.38']['alloc'].START).values[:-2]\n",
    "y = np.linspace(0, 1, len(lat_df))\n",
    "x = np.sort(lat_df) / 1e3\n",
    "plt.plot(x,y)\n",
    "plt.show()"
   ]
  },
  {
   "cell_type": "code",
   "execution_count": 25,
   "metadata": {},
   "outputs": [
    {
     "name": "stdout",
     "output_type": "stream",
     "text": [
      "Automatic pdb calling has been turned ON\n"
     ]
    },
    {
     "data": {
      "application/vnd.jupyter.widget-view+json": {
       "model_id": "7d9deb5a7d3042c7948504a5a2f8e34e",
       "version_major": 2,
       "version_minor": 0
      },
      "text/plain": [
       "Canvas(toolbar=Toolbar(toolitems=[('Home', 'Reset original view', 'home', 'home'), ('Back', 'Back to previous …"
      ]
     },
     "metadata": {},
     "output_type": "display_data"
    },
    {
     "name": "stdout",
     "output_type": "stream",
     "text": [
      "filling between 0.0 and 5.11282762742\n",
      "filling between 5.11282762742 and 10.325906776947\n",
      "filling between 10.325906776947 and 15.538985926473\n",
      "filling between 15.538985926473 and 20.752065076\n",
      "plotted data in 34.255152463912964\n"
     ]
    }
   ],
   "source": [
    "%pdb on\n",
    "exps = ['DYN-RESA_0.80_sched4_14.40']\n",
    "plot_agg_p99_over_time(exps, reset_cache=False, debug=False)"
   ]
  },
  {
   "cell_type": "code",
   "execution_count": 115,
   "metadata": {},
   "outputs": [
    {
     "name": "stdout",
     "output_type": "stream",
     "text": [
      "Automatic pdb calling has been turned OFF\n"
     ]
    },
    {
     "data": {
      "application/vnd.jupyter.widget-view+json": {
       "model_id": "3414fe612cd7473992a83ea4a1c9ae26",
       "version_major": 2,
       "version_minor": 0
      },
      "text/plain": [
       "Canvas(toolbar=Toolbar(toolitems=[('Home', 'Reset original view', 'home', 'home'), ('Back', 'Back to previous …"
      ]
     },
     "metadata": {},
     "output_type": "display_data"
    },
    {
     "name": "stdout",
     "output_type": "stream",
     "text": [
      "d-FCFS empty\n",
      "c-FCFS empty\n",
      "ARS-FP empty\n",
      "EDF empty\n",
      "c-PRE-SQ empty\n"
     ]
    }
   ],
   "source": [
    "%pdb off\n",
    "# distros = ['DISP2', 'SBIM2']\n",
    "distros = ['DISP2']\n",
    "plot_p99s(distros, app='MB', reset_cache=False, use_ylim=True, clients=[0,1,2,3,4,5], value=\"p99.9\", close_all=True, remove_drops=True, add_shen=True)\n",
    "\n",
    "#     * DARC-110: dynamic with ceiling\n",
    "#     * DARC-118: dynamic with ceiling + no std::sort\n",
    "#     * DARC-119: dynamic with ceiling + only 5us updates\n",
    "#     * DARC-106 : oracle with ceiling\n",
    "\n",
    "#     * DARC-111: dynamic with rounding // & 97 on faster machine // & 125\n",
    "#     * DARC-142: dynamic with rounding + only 5us updates % 10k samples // & 126\n",
    "#     * DARC-103: oracle with rounding // & 94 on faster machine"
   ]
  },
  {
   "cell_type": "code",
   "execution_count": 113,
   "metadata": {},
   "outputs": [
    {
     "name": "stdout",
     "output_type": "stream",
     "text": [
      "Automatic pdb calling has been turned OFF\n"
     ]
    },
    {
     "data": {
      "application/vnd.jupyter.widget-view+json": {
       "model_id": "701188660e934828a78f461cdb9994f3",
       "version_major": 2,
       "version_minor": 0
      },
      "text/plain": [
       "Canvas(toolbar=Toolbar(toolitems=[('Home', 'Reset original view', 'home', 'home'), ('Back', 'Back to previous …"
      ]
     },
     "metadata": {},
     "output_type": "display_data"
    },
    {
     "name": "stdout",
     "output_type": "stream",
     "text": [
      "d-FCFS empty\n",
      "c-FCFS empty\n",
      "ARS-FP empty\n",
      "EDF empty\n",
      "c-PRE-MQ empty\n"
     ]
    }
   ],
   "source": [
    "%pdb off\n",
    "# distros = ['DISP2', 'SBIM2']\n",
    "distros = ['SBIM2']\n",
    "plot_p99s(distros, app='MB', reset_cache=False, use_ylim=True, clients=[0,1,2,3,4,5], value=\"p99.9\", close_all=True, remove_drops=True, add_shen=True)\n",
    "\n",
    "#     * DARC-110: dynamic with ceiling\n",
    "#     * DARC-118: dynamic with ceiling + no std::sort\n",
    "#     * DARC-119: dynamic with ceiling + only 5us updates\n",
    "#     * DARC-106 : oracle with ceiling\n",
    "\n",
    "#     * DARC-111: dynamic with rounding // & 97 on faster machine // & 125\n",
    "#     * DARC-142: dynamic with rounding + only 5us updates % 10k samples // & 126\n",
    "#     * DARC-103: oracle with rounding // & 94 on faster machine"
   ]
  },
  {
   "cell_type": "code",
   "execution_count": null,
   "metadata": {},
   "outputs": [],
   "source": [
    "tmp = cache['TPCC']['typed']\n",
    "# print(tmp[tmp.load == 1.05])\n",
    "cache['TPCC']['typed'] = tmp.drop(tmp[tmp.load == 1.1].index)\n",
    "tmp = cache['TPCC']['typed']\n",
    "\n",
    "rn = tmp.run_number.unique()[0]\n",
    "for t in ['Payment', 'OrderStatus', 'NewOrder']:\n",
    "    row = {'policy': 'DYN-RESA', 'load': 1.1, 'type': t, 'run_number': 33, 'mean': 1, 'median': 1, 'p99': 1, 'p99.99': 1e9, 'p99_slowdown': 4, 'p99.9_slowdown': 4, 'p99.9': 1e9, 'offered': workloads['TPCC']['max_load'] * 1.1 / 1000, 'achieved':  workloads['TPCC']['max_load'] * 1.1 / 1000, 'reserved': 13}\n",
    "    tmp.loc[max(tmp.index)+1] = row\n",
    "\n",
    "print(tmp[tmp.load == 1.1])"
   ]
  },
  {
   "cell_type": "code",
   "execution_count": null,
   "metadata": {},
   "outputs": [
    {
     "data": {
      "application/vnd.jupyter.widget-view+json": {
       "model_id": "3cbbb14b218943e79ba622b44bb7d441",
       "version_major": 2,
       "version_minor": 0
      },
      "text/plain": [
       "Canvas(toolbar=Toolbar(toolitems=[('Home', 'Reset original view', 'home', 'home'), ('Back', 'Back to previous …"
      ]
     },
     "metadata": {},
     "output_type": "display_data"
    },
    {
     "name": "stdout",
     "output_type": "stream",
     "text": [
      "[c-PRE-MQ_0.70_TPCC_14.1] Missing 2 client histogram(s)\n"
     ]
    }
   ],
   "source": [
    "distros = ['TPCC']\n",
    "plot_p99s(distros, app='TPCC', reset_cache=False, clients=[0,1,2,3,4,5], use_ylim=True, remove_drops=False, value=\"p99.9\", add_shen=True)\n",
    "\n",
    "\n",
    "#     * DARC-28: Dynamic ceiling without mapping\n",
    "#     * DARC-24 : Oracle ceiling without mapping\n",
    "\n",
    "#     * DARC-29: Dynamic rounding without mapping\n",
    "#     * DARC-25: Oracle rounding without mapping\n",
    "\n",
    "#     * DARC-30: Dynamic ceiling with mapping\n",
    "#     * DARC-31: Oracle ceiling with mapping\n",
    "\n",
    "#     * DARC-33: Dynamic rounding with mapping\n",
    "#     * DARC-32: Oracle rounding with mapping"
   ]
  },
  {
   "cell_type": "code",
   "execution_count": 55,
   "metadata": {},
   "outputs": [
    {
     "data": {
      "application/vnd.jupyter.widget-view+json": {
       "model_id": "0848e83d5c284262bb5aa99ca0b81421",
       "version_major": 2,
       "version_minor": 0
      },
      "text/plain": [
       "Canvas(toolbar=Toolbar(toolitems=[('Home', 'Reset original view', 'home', 'home'), ('Back', 'Back to previous …"
      ]
     },
     "metadata": {},
     "output_type": "display_data"
    },
    {
     "name": "stdout",
     "output_type": "stream",
     "text": [
      "d-FCFS empty\n",
      "c-FCFS empty\n",
      "ARS-FP empty\n",
      "EDF empty\n",
      "c-PRE-SQ empty\n"
     ]
    }
   ],
   "source": [
    "distros = ['TPCC']\n",
    "plot_p99s(distros, app='TPCC', reset_cache=False, clients=[0,1,2,3,4,5], use_ylim=True, remove_drops=False, value=\"p99.9\", add_shen=True)\n",
    "\n",
    "\n",
    "#     * DARC-28: Dynamic ceiling without mapping\n",
    "#     * DARC-24 : Oracle ceiling without mapping\n",
    "\n",
    "#     * DARC-29: Dynamic rounding without mapping\n",
    "#     * DARC-25: Oracle rounding without mapping\n",
    "\n",
    "#     * DARC-30: Dynamic ceiling with mapping\n",
    "#     * DARC-31: Oracle ceiling with mapping\n",
    "\n",
    "#     * DARC-33: Dynamic rounding with mapping\n",
    "#     * DARC-32: Oracle rounding with mapping"
   ]
  },
  {
   "cell_type": "code",
   "execution_count": 52,
   "metadata": {},
   "outputs": [
    {
     "data": {
      "application/vnd.jupyter.widget-view+json": {
       "model_id": "ed6fcaebb8554aab8008b97f47653e0b",
       "version_major": 2,
       "version_minor": 0
      },
      "text/plain": [
       "Canvas(toolbar=Toolbar(toolitems=[('Home', 'Reset original view', 'home', 'home'), ('Back', 'Back to previous …"
      ]
     },
     "metadata": {},
     "output_type": "display_data"
    },
    {
     "name": "stdout",
     "output_type": "stream",
     "text": [
      "[DISP3] Parsed histograms in 113.221235 seconds\n",
      "[DISP3] Prepared df rows in 0.159024 seconds\n",
      "[DISP3] Created df in 0.011126 seconds\n",
      "d-FCFS empty\n",
      "shen-d-FCFS empty\n",
      "shen-c-FCFS empty\n",
      "ARS-FP empty\n",
      "c-PRE-SQ empty\n",
      "c-PRE-MQ empty\n"
     ]
    }
   ],
   "source": [
    "distros = ['DISP3']\n",
    "plot_p99s(distros, app='MB', reset_cache=True, use_ylim=True, clients=[0,1,2,3,4,5], value=\"p99.9\", remove_drops=True)"
   ]
  },
  {
   "cell_type": "code",
   "execution_count": null,
   "metadata": {},
   "outputs": [],
   "source": [
    "plot_agg_p99_over_time('DYN-RESA_0.80_sched4_14.4')"
   ]
  },
  {
   "cell_type": "code",
   "execution_count": null,
   "metadata": {},
   "outputs": [],
   "source": [
    "exps = [\n",
    "'TEST_DYN-RESA_0.50_multi_8.3',\n",
    "]\n",
    "\n",
    "plot_setups_traces(exps, show_ts=False, verbose=False, app=\"MB\", clients=[0])"
   ]
  },
  {
   "cell_type": "code",
   "execution_count": null,
   "metadata": {},
   "outputs": [],
   "source": [
    "plot_wcc('WC', reset_cache=False, clients=[0,1,2,3,4,5], value=\"p99.9\")"
   ]
  },
  {
   "cell_type": "code",
   "execution_count": null,
   "metadata": {},
   "outputs": [],
   "source": [
    "plot_wcc('DISP2_WC', reset_cache=False, clients=[0,1,2,3,4,5], value=\"p99.9\")"
   ]
  },
  {
   "cell_type": "code",
   "execution_count": 74,
   "metadata": {},
   "outputs": [],
   "source": [
    "\n",
    "# l1 = {\n",
    "#     'policy': 'c-PRE-MQ',\n",
    "#     'load': 0.80,\n",
    "#     'type': 'UNKNOWN',\n",
    "#     'mean': 18,\n",
    "#     'median': 16,\n",
    "#     'p99': 1e9,\n",
    "#     'p99.9': 1e9,\n",
    "#     'p99.99': 1e9,\n",
    "#     'p99_slowdown': 1e9,\n",
    "#     'p99.9_slowdown': 1e9,\n",
    "#     'achieved': 34,\n",
    "#     'offered': 34,\n",
    "# }\n",
    "\n",
    "# l3 = {\n",
    "#     'policy': 'DYN-RESA',\n",
    "#     'load': 1,\n",
    "#     'type': 'SHORT',\n",
    "#     'mean': 18,\n",
    "#     'median': 16,\n",
    "#     'p99': 1e9,\n",
    "#     'p99.9': 1e9,\n",
    "#     'p99.99': 1e9,\n",
    "#     'p99_slowdown': 1e9,\n",
    "#     'p99.9_slowdown': 1e9,\n",
    "#     'achieved': 45,\n",
    "#     'offered': 45,\n",
    "# }\n",
    "# cache['ROCKSDB']['all'] = cache['ROCKSDB']['all'].append(l1, ignore_index=True)\n",
    "# cache['ROCKSDB']['typed'] = cache['ROCKSDB']['typed'].append(l3, ignore_index=True)\n",
    "\n",
    "\n",
    "\n",
    "# l1 = {\n",
    "#     'policy': 'c-PRE-SQ',\n",
    "#     'load': 0.60,\n",
    "#     'type': 'UNKNOWN',\n",
    "#     'mean': 18,\n",
    "#     'median': 16,\n",
    "#     'p99': 60,\n",
    "#     'p99.9': '1e9',\n",
    "#     'p99.99': '1e9',\n",
    "#     'p99_slowdown': 1e9,\n",
    "#     'p99.9_slowdown': 1e9,\n",
    "#     'achieved': 2805,\n",
    "#     'offered': 2805,\n",
    "# }\n",
    "\n",
    "\n",
    "# l3 = {\n",
    "#     'policy': 'DYN-RESA',\n",
    "#     'load': 0.85,\n",
    "#     'type': 'UNKNOWN',\n",
    "#     'mean': 18,\n",
    "#     'median': 16,\n",
    "#     'p99': 60,\n",
    "#     'p99.9': '1e9',\n",
    "#     'p99.99': '1e9',\n",
    "#     'p99_slowdown': 1e9,\n",
    "#     'p99.9_slowdown': 1e9,\n",
    "#     'achieved': 4000,\n",
    "#     'offered': 4000,\n",
    "# }\n",
    "# cache['SBIM2']['all'] = cache['SBIM2']['all'].append(l1, ignore_index=True)\n",
    "# cache['SBIM2']['all'] = cache['SBIM2']['all'].append(l3, ignore_index=True)\n",
    "# cache['SBIM2']['typed'].\n",
    "\n",
    "\n",
    "l1 = {\n",
    "    'policy': 'c-PRE-MQ',\n",
    "    'load': 0.80,\n",
    "    'type': 'UNKNOWN',\n",
    "    'mean': 18,\n",
    "    'median': 16,\n",
    "    'p99': 1e9,\n",
    "    'p99.9': 1e9,\n",
    "    'p99.99': 1e9,\n",
    "    'p99_slowdown': 1e9,\n",
    "    'p99.9_slowdown': 1e9,\n",
    "    'achieved': 220,\n",
    "    'offered': 220,\n",
    "}\n",
    "\n",
    "# l3 = {\n",
    "#     'policy': 'DYN-RESA',\n",
    "#     'load': 0.95,\n",
    "#     'type': 'UNKNOWN',\n",
    "#     'mean': 18,\n",
    "#     'median': 16,\n",
    "#     'p99': 1e9,\n",
    "#     'p99.9': 1e9,\n",
    "#     'p99.99': 1e9,\n",
    "#     'p99_slowdown': 1e9,\n",
    "#     'p99.9_slowdown': 1e9,\n",
    "#     'achieved': 270,\n",
    "#     'offered': 270,\n",
    "# }\n",
    "cache['DISP2']['all'] = cache['DISP2']['all'].append(l1, ignore_index=True)\n",
    "# cache['DISP2']['all'] = cache['DISP2']['all'].append(l3, ignore_index=True)"
   ]
  },
  {
   "cell_type": "code",
   "execution_count": null,
   "metadata": {},
   "outputs": [],
   "source": [
    "plt.close('all')\n",
    "exp = 'w8_0.50_SJF.75'\n",
    "df = read_client_tp(exp)\n",
    "df.N *= 1000\n",
    "df.TIME -= min(df.TIME)\n",
    "fig, axes = plt.subplots(len(df.W_ID.unique()), 1, squeeze=False)\n",
    "print('{} overall average throughput: {}'.format(exp, int(df.groupby(['W_ID','TYPE']).N.mean().sum())))\n",
    "for i, w in enumerate(df.W_ID.unique()):\n",
    "    w_df = df[df.W_ID == w]\n",
    "    print('worker {} overall average throughput: {}'.format(w, int(w_df.groupby(['W_ID', 'TYPE']).N.mean().sum())))\n",
    "    print('worker {} average {} throughput: {}, average {} throughput: {}'.format(\n",
    "        w,\n",
    "        'PAGE', int(w_df[w_df.TYPE == 'PAGE'].groupby('W_ID').N.mean().sum()),\n",
    "        'REGEX', int(w_df[w_df.TYPE == 'REGEX'].groupby('W_ID').N.mean().sum()),\n",
    "    ))\n",
    "    sns.lineplot(x='TIME', y='N', data=w_df, ax=axes[i][0], ci=None)\n",
    "    axes[i][0].set_ylim(ymin=0)"
   ]
  }
 ],
 "metadata": {
  "kernelspec": {
   "display_name": "Python 3",
   "language": "python",
   "name": "python3"
  },
  "language_info": {
   "codemirror_mode": {
    "name": "ipython",
    "version": 3
   },
   "file_extension": ".py",
   "mimetype": "text/x-python",
   "name": "python",
   "nbconvert_exporter": "python",
   "pygments_lexer": "ipython3",
   "version": "3.6.9"
  }
 },
 "nbformat": 4,
 "nbformat_minor": 4
}
