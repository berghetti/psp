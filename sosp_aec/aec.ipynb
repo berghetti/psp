{
 "cells": [
  {
   "cell_type": "markdown",
   "metadata": {},
   "source": [
    "# Reproducing Perséphone results\n",
    "\n",
    "## General instructions\n",
    "\n",
    "- For each figure, the notebook contains commands to generate and plot the results.\n",
    "- Start a terminal on the docker instance with `docker exec -it CONTAINER_ID /bin/bash`\n",
    "\n",
    "## Featured results\n",
    "\n",
    "For the interest of time, this notebook only features:\n",
    "- Figure 3\n",
    "- Figure 4-a\n",
    "- Figure 5-a\n",
    "- Figure 6\n",
    "- Figure 7\n",
    "- Figure 8\n",
    "\n",
    "Each experiment runs 5 to 100% load, in 5% increment. Each load point represents 20 seconds of traffic. Each figure presents 3 to 4 scheduling policies. Overall, we estimate that generating the results takes between 100 and 130mn.\n",
    "Plotting itself takes time --- we are working on enhancing the data parsers to make them more performant.\n",
    "\n",
    "The overall process could take between 3 and 4 hours.\n",
    "\n",
    "## Notes\n",
    "\n",
    "- Each figure has a list of experiment (one per load point). You can find this list in /psp/experiments/[Figure number].\n",
    "- Though automated, some experiments could fail and you will have to rerun them. Usually, this means that a specific datapoint must be manually replayed.\n",
    "- Specifically, we have seen cases where:\n",
    "    - The server program does not stop and must be manually terminated (impact: Shremote hangs)\n",
    "    - Shinjuku crashes due to \"dune: exit due to unhandled VM exit\"\n",
    "    - Shremote fails to execute some management command over SSH such as removing a directory\n",
    "- When plotting, if you see a message such as \"/psp/experiments/CFCFS_0.70_DISP2_14.0/client0/traces_rates does not exist\", you will have to run again this data point\n",
    "- The run.py script can take a --load-range argument. Usage: --load-range low high, where low and high are load bounds used to generate 5% load increments per experiment. For example, --load-range .40 .41 will only run the experiment at 40% load.\n",
    "- We are aware of an issue in terminating shinjuku that causes an error message to be printed in the shremote log, but does not impact the results."
   ]
  },
  {
   "cell_type": "code",
   "execution_count": 1,
   "metadata": {},
   "outputs": [],
   "source": [
    "%matplotlib widget\n",
    "# %matplotlib notebook\n",
    "import sys\n",
    "import seaborn as sns\n",
    "import matplotlib\n",
    "import matplotlib.gridspec as gridspec\n",
    "import matplotlib.pyplot as plt\n",
    "import matplotlib.colors as mcolors\n",
    "from matplotlib.ticker import ScalarFormatter\n",
    "from matplotlib import lines\n",
    "import pandas as pd\n",
    "import numpy as np\n",
    "from pathlib import Path\n",
    "from loader import *"
   ]
  },
  {
   "cell_type": "markdown",
   "metadata": {},
   "source": [
    "# Figure 3"
   ]
  },
  {
   "cell_type": "code",
   "execution_count": 2,
   "metadata": {
    "scrolled": false
   },
   "outputs": [],
   "source": [
    "# To generate the results, issue the following commands\n",
    "# 1) `${AE_DIR}/Persephone/sosp_aec/base_start.sh Persephone` on the server\n",
    "# 2) Then run the following in the container:\n",
    "# /psp/Shremote_cfgs/run.py 0 psp DISP2 -p DARC CFCFS DFCFS"
   ]
  },
  {
   "cell_type": "code",
   "execution_count": 13,
   "metadata": {
    "scrolled": false
   },
   "outputs": [
    {
     "name": "stdout",
     "output_type": "stream",
     "text": [
      "Automatic pdb calling has been turned ON\n"
     ]
    },
    {
     "data": {
      "application/vnd.jupyter.widget-view+json": {
       "model_id": "0518bc3029ae4eff8ba488ea2ee9be1c",
       "version_major": 2,
       "version_minor": 0
      },
      "text/plain": [
       "Canvas(toolbar=Toolbar(toolitems=[('Home', 'Reset original view', 'home', 'home'), ('Back', 'Back to previous …"
      ]
     },
     "metadata": {},
     "output_type": "display_data"
    },
    {
     "name": "stdout",
     "output_type": "stream",
     "text": [
      "[Figure3] Parsed histograms in 151.298748 seconds\n",
      "[Figure3] Prepared df rows in 0.275421 seconds\n",
      "[Figure3] Created df in 0.020254 seconds\n"
     ]
    }
   ],
   "source": [
    "%pdb on \n",
    "plot_p99s(['Figure3'], app='MB', reset_cache=True, use_ylim=True, clients=[0,1,2,3,4,5], value=\"p99.9\", close_all=True, remove_drops=True, add_shen=False, ncols=3)"
   ]
  },
  {
   "cell_type": "markdown",
   "metadata": {},
   "source": [
    "# Figure 4-a"
   ]
  },
  {
   "cell_type": "code",
   "execution_count": null,
   "metadata": {},
   "outputs": [],
   "source": [
    "# 1) `${AE_DIR}/Persephone/sosp_aec/base_start.sh Persephone` on the server\n",
    "# 2) Then run the following in the container:\n",
    "# /psp/Shremote_cfgs/fig4.sh"
   ]
  },
  {
   "cell_type": "markdown",
   "metadata": {},
   "source": [
    "# Figure 5-a"
   ]
  },
  {
   "cell_type": "code",
   "execution_count": null,
   "metadata": {},
   "outputs": [],
   "source": [
    "# Shinjuku data:\n",
    "# 1) `${AE_DIR}/Persephone/sosp_aec/base_start.sh shinjuku` on the server\n",
    "# 2) Then run the following in the container:\n",
    "# /psp/Shremote_cfgs/run.py 0 shinjuku DISP2_IX -p cPREMQ --load-ranges .05 .80\n",
    "\n",
    "# Perséphone data: already generated for figure 3\n",
    "\n",
    "# Shenango data:"
   ]
  },
  {
   "cell_type": "code",
   "execution_count": 4,
   "metadata": {
    "scrolled": false
   },
   "outputs": [
    {
     "data": {
      "application/vnd.jupyter.widget-view+json": {
       "model_id": "a14f4d7965424804ba295de9a95d1bb8",
       "version_major": 2,
       "version_minor": 0
      },
      "text/plain": [
       "Canvas(toolbar=Toolbar(toolitems=[('Home', 'Reset original view', 'home', 'home'), ('Back', 'Back to previous …"
      ]
     },
     "metadata": {},
     "output_type": "display_data"
    },
    {
     "name": "stdout",
     "output_type": "stream",
     "text": [
      "Merged 6 histograms in 0.01589369773864746 seconds\n",
      "Computed percentiles in 0.004282951354980469 seconds\n",
      "Merged 6 histograms in 0.016765117645263672 seconds\n",
      "Computed percentiles in 0.0038950443267822266 seconds\n",
      "Overall merge/pctl built in 0.020736217498779297 seconds\n",
      "Slowdown hist built in 0.02532172203063965 seconds\n",
      "Merged 6 histograms in 0.018268346786499023 seconds\n",
      "Computed percentiles in 0.0046062469482421875 seconds\n",
      "Merged 6 histograms in 0.02126479148864746 seconds\n",
      "Computed percentiles in 0.004881858825683594 seconds\n",
      "Overall merge/pctl built in 0.015336751937866211 seconds\n",
      "Slowdown hist built in 0.023000240325927734 seconds\n",
      "Merged 6 histograms in 0.020651817321777344 seconds\n",
      "Computed percentiles in 0.004915952682495117 seconds\n",
      "Merged 6 histograms in 0.02017664909362793 seconds\n",
      "Computed percentiles in 0.004599094390869141 seconds\n",
      "Overall merge/pctl built in 0.015926122665405273 seconds\n",
      "Slowdown hist built in 0.022505998611450195 seconds\n",
      "Merged 6 histograms in 0.020975589752197266 seconds\n",
      "Computed percentiles in 0.004288673400878906 seconds\n",
      "Merged 6 histograms in 0.022059202194213867 seconds\n",
      "Computed percentiles in 0.004328012466430664 seconds\n",
      "Overall merge/pctl built in 0.015923738479614258 seconds\n",
      "Slowdown hist built in 0.02605724334716797 seconds\n",
      "Merged 6 histograms in 0.022830724716186523 seconds\n",
      "Computed percentiles in 0.004909992218017578 seconds\n",
      "Merged 6 histograms in 0.027628660202026367 seconds\n",
      "Computed percentiles in 0.005414485931396484 seconds\n",
      "Overall merge/pctl built in 0.018172264099121094 seconds\n",
      "Slowdown hist built in 0.02931809425354004 seconds\n",
      "Merged 6 histograms in 0.03061223030090332 seconds\n",
      "Computed percentiles in 0.004839897155761719 seconds\n",
      "Merged 6 histograms in 0.030448436737060547 seconds\n",
      "Computed percentiles in 0.005697965621948242 seconds\n",
      "Overall merge/pctl built in 0.02089238166809082 seconds\n",
      "Slowdown hist built in 0.039843082427978516 seconds\n",
      "Merged 6 histograms in 0.05208158493041992 seconds\n",
      "Computed percentiles in 0.007097959518432617 seconds\n",
      "Merged 6 histograms in 0.06325650215148926 seconds\n",
      "Computed percentiles in 0.0068128108978271484 seconds\n",
      "Overall merge/pctl built in 0.032205820083618164 seconds\n",
      "Slowdown hist built in 0.04774308204650879 seconds\n",
      "Merged 6 histograms in 0.05513906478881836 seconds\n",
      "Computed percentiles in 0.0065708160400390625 seconds\n",
      "Merged 6 histograms in 0.07094907760620117 seconds\n",
      "Computed percentiles in 0.007447481155395508 seconds\n",
      "Overall merge/pctl built in 0.031234025955200195 seconds\n",
      "Slowdown hist built in 0.05453133583068848 seconds\n",
      "Merged 6 histograms in 0.08826375007629395 seconds\n",
      "Computed percentiles in 0.014644622802734375 seconds\n",
      "Merged 6 histograms in 0.1013178825378418 seconds\n",
      "Computed percentiles in 0.008642911911010742 seconds\n",
      "Overall merge/pctl built in 0.03855252265930176 seconds\n",
      "Slowdown hist built in 0.06665277481079102 seconds\n",
      "Merged 6 histograms in 0.06603002548217773 seconds\n",
      "Computed percentiles in 0.010434389114379883 seconds\n",
      "Merged 6 histograms in 0.07279801368713379 seconds\n",
      "Computed percentiles in 0.0089874267578125 seconds\n",
      "Overall merge/pctl built in 0.043160200119018555 seconds\n",
      "Slowdown hist built in 0.0716698169708252 seconds\n",
      "Merged 6 histograms in 0.18664169311523438 seconds\n",
      "Computed percentiles in 0.015372037887573242 seconds\n",
      "Merged 6 histograms in 0.06794142723083496 seconds\n",
      "Computed percentiles in 0.008152484893798828 seconds\n",
      "Overall merge/pctl built in 0.05806541442871094 seconds\n",
      "Slowdown hist built in 0.13769125938415527 seconds\n",
      "Merged 6 histograms in 0.2659285068511963 seconds\n",
      "Computed percentiles in 0.018523693084716797 seconds\n",
      "Merged 6 histograms in 0.06513023376464844 seconds\n",
      "Computed percentiles in 0.007962226867675781 seconds\n",
      "Overall merge/pctl built in 0.06857419013977051 seconds\n",
      "Slowdown hist built in 0.15551424026489258 seconds\n",
      "Merged 6 histograms in 0.04771828651428223 seconds\n",
      "Computed percentiles in 0.007079124450683594 seconds\n",
      "Merged 6 histograms in 0.08551931381225586 seconds\n",
      "Computed percentiles in 0.009376764297485352 seconds\n",
      "Overall merge/pctl built in 0.03988337516784668 seconds\n",
      "Slowdown hist built in 0.07141947746276855 seconds\n",
      "Merged 6 histograms in 0.6542773246765137 seconds\n",
      "Computed percentiles in 0.041974544525146484 seconds\n",
      "Merged 6 histograms in 0.14036250114440918 seconds\n",
      "Computed percentiles in 0.02062058448791504 seconds\n",
      "Overall merge/pctl built in 0.19594979286193848 seconds\n",
      "Slowdown hist built in 0.4353790283203125 seconds\n",
      "Merged 6 histograms in 0.0734553337097168 seconds\n",
      "Computed percentiles in 0.015459060668945312 seconds\n",
      "Merged 6 histograms in 0.1160423755645752 seconds\n",
      "Computed percentiles in 0.01255035400390625 seconds\n",
      "Overall merge/pctl built in 0.05166292190551758 seconds\n",
      "Slowdown hist built in 0.10155487060546875 seconds\n",
      "Merged 6 histograms in 1.0671422481536865 seconds\n",
      "Computed percentiles in 0.06714224815368652 seconds\n",
      "Merged 6 histograms in 0.1369643211364746 seconds\n",
      "Computed percentiles in 0.024324655532836914 seconds\n",
      "Overall merge/pctl built in 0.3357419967651367 seconds\n",
      "Slowdown hist built in 0.715855598449707 seconds\n",
      "Merged 6 histograms in 0.06889986991882324 seconds\n",
      "Computed percentiles in 0.008835554122924805 seconds\n",
      "Merged 6 histograms in 0.17866277694702148 seconds\n",
      "Computed percentiles in 0.015980958938598633 seconds\n",
      "Overall merge/pctl built in 0.07534217834472656 seconds\n",
      "Slowdown hist built in 0.13489317893981934 seconds\n",
      "Merged 6 histograms in 0.0235135555267334 seconds\n",
      "Computed percentiles in 0.012449502944946289 seconds\n",
      "Merged 6 histograms in 0.047742605209350586 seconds\n",
      "Computed percentiles in 0.014704704284667969 seconds\n",
      "Overall merge/pctl built in 0.025365352630615234 seconds\n",
      "Slowdown hist built in 0.029897451400756836 seconds\n",
      "Merged 6 histograms in 0.02165079116821289 seconds\n",
      "Computed percentiles in 0.005085945129394531 seconds\n",
      "Merged 6 histograms in 0.03462648391723633 seconds\n",
      "Computed percentiles in 0.008409738540649414 seconds\n",
      "Overall merge/pctl built in 0.02415609359741211 seconds\n",
      "Slowdown hist built in 0.03423428535461426 seconds\n",
      "Merged 6 histograms in 0.01958155632019043 seconds\n",
      "Computed percentiles in 0.005601167678833008 seconds\n",
      "Merged 6 histograms in 0.03646492958068848 seconds\n",
      "Computed percentiles in 0.0057108402252197266 seconds\n",
      "Overall merge/pctl built in 0.02060675621032715 seconds\n",
      "Slowdown hist built in 0.03222823143005371 seconds\n",
      "Merged 6 histograms in 0.026645898818969727 seconds\n",
      "Computed percentiles in 0.005274534225463867 seconds\n",
      "Merged 6 histograms in 0.034984588623046875 seconds\n",
      "Computed percentiles in 0.005832195281982422 seconds\n",
      "Overall merge/pctl built in 0.020417213439941406 seconds\n",
      "Slowdown hist built in 0.03238368034362793 seconds\n",
      "Merged 6 histograms in 0.025919198989868164 seconds\n",
      "Computed percentiles in 0.005004405975341797 seconds\n",
      "Merged 6 histograms in 0.03280949592590332 seconds\n",
      "Computed percentiles in 0.005393266677856445 seconds\n",
      "Overall merge/pctl built in 0.023483753204345703 seconds\n",
      "Slowdown hist built in 0.03542137145996094 seconds\n",
      "Merged 6 histograms in 0.029837846755981445 seconds\n",
      "Computed percentiles in 0.005218029022216797 seconds\n",
      "Merged 6 histograms in 0.06813812255859375 seconds\n",
      "Computed percentiles in 0.007407426834106445 seconds\n",
      "Overall merge/pctl built in 0.027408599853515625 seconds\n",
      "Slowdown hist built in 0.048166513442993164 seconds\n",
      "Merged 6 histograms in 0.023914098739624023 seconds\n",
      "Computed percentiles in 0.004997968673706055 seconds\n",
      "Merged 6 histograms in 0.08571720123291016 seconds\n",
      "Computed percentiles in 0.008887052536010742 seconds\n",
      "Overall merge/pctl built in 0.0325312614440918 seconds\n",
      "Slowdown hist built in 0.05808591842651367 seconds\n",
      "Merged 6 histograms in 0.022684335708618164 seconds\n",
      "Computed percentiles in 0.00464630126953125 seconds\n",
      "Merged 6 histograms in 0.09492850303649902 seconds\n",
      "Computed percentiles in 0.008862972259521484 seconds\n",
      "Overall merge/pctl built in 0.032283782958984375 seconds\n",
      "Slowdown hist built in 0.05717825889587402 seconds\n",
      "Merged 6 histograms in 0.024438858032226562 seconds\n",
      "Computed percentiles in 0.004543781280517578 seconds\n",
      "Merged 6 histograms in 0.11326360702514648 seconds\n",
      "Computed percentiles in 0.011133670806884766 seconds\n",
      "Overall merge/pctl built in 0.037615060806274414 seconds\n",
      "Slowdown hist built in 0.06821918487548828 seconds\n"
     ]
    },
    {
     "name": "stdout",
     "output_type": "stream",
     "text": [
      "Merged 6 histograms in 0.021399974822998047 seconds\n",
      "Computed percentiles in 0.004636049270629883 seconds\n",
      "Merged 6 histograms in 0.15141916275024414 seconds\n",
      "Computed percentiles in 0.012717008590698242 seconds\n",
      "Overall merge/pctl built in 0.04748845100402832 seconds\n",
      "Slowdown hist built in 0.09307360649108887 seconds\n",
      "Merged 6 histograms in 0.02494335174560547 seconds\n",
      "Computed percentiles in 0.005177021026611328 seconds\n",
      "Merged 6 histograms in 0.21019411087036133 seconds\n",
      "Computed percentiles in 0.01925802230834961 seconds\n",
      "Overall merge/pctl built in 0.06837320327758789 seconds\n",
      "Slowdown hist built in 0.12702560424804688 seconds\n",
      "Merged 6 histograms in 0.030387401580810547 seconds\n",
      "Computed percentiles in 0.005994558334350586 seconds\n",
      "Merged 6 histograms in 0.41086840629577637 seconds\n",
      "Computed percentiles in 0.031071186065673828 seconds\n",
      "Overall merge/pctl built in 0.11381888389587402 seconds\n",
      "Slowdown hist built in 0.21115732192993164 seconds\n",
      "Merged 6 histograms in 0.04993247985839844 seconds\n",
      "Computed percentiles in 0.0076901912689208984 seconds\n",
      "Merged 6 histograms in 0.41066694259643555 seconds\n",
      "Computed percentiles in 0.05037212371826172 seconds\n",
      "Overall merge/pctl built in 0.16038918495178223 seconds\n",
      "Slowdown hist built in 0.2761192321777344 seconds\n",
      "Merged 6 histograms in 0.06793069839477539 seconds\n",
      "Computed percentiles in 0.008328914642333984 seconds\n",
      "Merged 6 histograms in 0.9719312191009521 seconds\n",
      "Computed percentiles in 0.1160891056060791 seconds\n",
      "Overall merge/pctl built in 0.33502197265625 seconds\n",
      "Slowdown hist built in 0.7943341732025146 seconds\n",
      "Merged 6 histograms in 0.32471561431884766 seconds\n",
      "Computed percentiles in 0.025283336639404297 seconds\n",
      "Merged 6 histograms in 3.9041168689727783 seconds\n",
      "Computed percentiles in 0.4758026599884033 seconds\n",
      "Overall merge/pctl built in 1.1977179050445557 seconds\n",
      "Slowdown hist built in 1.7118830680847168 seconds\n",
      "/psp/experiments/cPREMQ_0.80_DISP2_IX_14.0/client3/traces_hist does not exist\n",
      "/psp/experiments/cPREMQ_0.80_DISP2_IX_14.0/client4/traces_hist does not exist\n",
      "/psp/experiments/cPREMQ_0.80_DISP2_IX_14.0/client5/traces_hist does not exist\n",
      "[cPREMQ_0.80_DISP2_IX_14.0] Missing 3 client histogram(s)\n",
      "Merged 3 histograms in 129.44736886024475 seconds\n",
      "Computed percentiles in 8.200560092926025 seconds\n",
      "Merged 3 histograms in 469.9210524559021 seconds\n",
      "Computed percentiles in 42.001739501953125 seconds\n",
      "Overall merge/pctl built in 205.1322319507599 seconds\n",
      "Slowdown hist built in 417.43663001060486 seconds\n",
      "[Figure5_a] Parsed histograms in 1487.332406 seconds\n"
     ]
    },
    {
     "ename": "KeyError",
     "evalue": "'cPREMQ'",
     "output_type": "error",
     "traceback": [
      "\u001b[0;31m---------------------------------------------------------------------------\u001b[0m",
      "\u001b[0;31mKeyError\u001b[0m                                  Traceback (most recent call last)",
      "\u001b[0;32m<ipython-input-4-dae1ade25b88>\u001b[0m in \u001b[0;36m<module>\u001b[0;34m\u001b[0m\n\u001b[0;32m----> 1\u001b[0;31m \u001b[0mplot_p99s\u001b[0m\u001b[0;34m(\u001b[0m\u001b[0;34m[\u001b[0m\u001b[0;34m'Figure5_a'\u001b[0m\u001b[0;34m]\u001b[0m\u001b[0;34m,\u001b[0m \u001b[0mapp\u001b[0m\u001b[0;34m=\u001b[0m\u001b[0;34m'MB'\u001b[0m\u001b[0;34m,\u001b[0m \u001b[0mreset_cache\u001b[0m\u001b[0;34m=\u001b[0m\u001b[0;32mFalse\u001b[0m\u001b[0;34m,\u001b[0m \u001b[0muse_ylim\u001b[0m\u001b[0;34m=\u001b[0m\u001b[0;32mTrue\u001b[0m\u001b[0;34m,\u001b[0m \u001b[0mclients\u001b[0m\u001b[0;34m=\u001b[0m\u001b[0;34m[\u001b[0m\u001b[0;36m0\u001b[0m\u001b[0;34m,\u001b[0m\u001b[0;36m1\u001b[0m\u001b[0;34m,\u001b[0m\u001b[0;36m2\u001b[0m\u001b[0;34m,\u001b[0m\u001b[0;36m3\u001b[0m\u001b[0;34m,\u001b[0m\u001b[0;36m4\u001b[0m\u001b[0;34m,\u001b[0m\u001b[0;36m5\u001b[0m\u001b[0;34m]\u001b[0m\u001b[0;34m,\u001b[0m \u001b[0mvalue\u001b[0m\u001b[0;34m=\u001b[0m\u001b[0;34m\"p99.9\"\u001b[0m\u001b[0;34m,\u001b[0m \u001b[0mclose_all\u001b[0m\u001b[0;34m=\u001b[0m\u001b[0;32mTrue\u001b[0m\u001b[0;34m,\u001b[0m \u001b[0mremove_drops\u001b[0m\u001b[0;34m=\u001b[0m\u001b[0;32mTrue\u001b[0m\u001b[0;34m,\u001b[0m \u001b[0madd_shen\u001b[0m\u001b[0;34m=\u001b[0m\u001b[0;32mFalse\u001b[0m\u001b[0;34m)\u001b[0m\u001b[0;34m\u001b[0m\u001b[0;34m\u001b[0m\u001b[0m\n\u001b[0m",
      "\u001b[0;32m/psp/sosp_aec/loader.py\u001b[0m in \u001b[0;36mplot_p99s\u001b[0;34m(exp_files, app, value, use_ylim, close_all, ncols, add_shen, **kwargs)\u001b[0m\n\u001b[1;32m    832\u001b[0m                 \u001b[0;31m# Make shenango's experiments with drops infinite latency #FIXME: not really fair because we don't tolerate anything like we do with psp\u001b[0m\u001b[0;34m\u001b[0m\u001b[0;34m\u001b[0m\u001b[0;34m\u001b[0m\u001b[0m\n\u001b[1;32m    833\u001b[0m                 \u001b[0mshen_df_typed\u001b[0m\u001b[0;34m[\u001b[0m\u001b[0mvalue\u001b[0m\u001b[0;34m]\u001b[0m \u001b[0;34m=\u001b[0m \u001b[0mshen_df_typed\u001b[0m\u001b[0;34m.\u001b[0m\u001b[0mapply\u001b[0m\u001b[0;34m(\u001b[0m\u001b[0;32mlambda\u001b[0m \u001b[0mx\u001b[0m\u001b[0;34m:\u001b[0m \u001b[0msys\u001b[0m\u001b[0;34m.\u001b[0m\u001b[0mmaxsize\u001b[0m \u001b[0;32mif\u001b[0m \u001b[0mx\u001b[0m\u001b[0;34m.\u001b[0m\u001b[0machieved\u001b[0m \u001b[0;34m<\u001b[0m \u001b[0mx\u001b[0m\u001b[0;34m.\u001b[0m\u001b[0moffered\u001b[0m \u001b[0;32melse\u001b[0m \u001b[0mx\u001b[0m\u001b[0;34m[\u001b[0m\u001b[0mvalue\u001b[0m\u001b[0;34m]\u001b[0m\u001b[0;34m,\u001b[0m \u001b[0maxis\u001b[0m\u001b[0;34m=\u001b[0m\u001b[0;36m1\u001b[0m\u001b[0;34m)\u001b[0m\u001b[0;34m\u001b[0m\u001b[0;34m\u001b[0m\u001b[0m\n\u001b[0;32m--> 834\u001b[0;31m                 \u001b[0mshen_df_all\u001b[0m\u001b[0;34m[\u001b[0m\u001b[0mvalue\u001b[0m\u001b[0;34m]\u001b[0m \u001b[0;34m=\u001b[0m \u001b[0mshen_df_all\u001b[0m\u001b[0;34m.\u001b[0m\u001b[0mapply\u001b[0m\u001b[0;34m(\u001b[0m\u001b[0;32mlambda\u001b[0m \u001b[0mx\u001b[0m\u001b[0;34m:\u001b[0m \u001b[0msys\u001b[0m\u001b[0;34m.\u001b[0m\u001b[0mmaxsize\u001b[0m \u001b[0;32mif\u001b[0m \u001b[0mx\u001b[0m\u001b[0;34m.\u001b[0m\u001b[0machieved\u001b[0m \u001b[0;34m<\u001b[0m \u001b[0mx\u001b[0m\u001b[0;34m.\u001b[0m\u001b[0moffered\u001b[0m \u001b[0;32melse\u001b[0m \u001b[0mx\u001b[0m\u001b[0;34m[\u001b[0m\u001b[0mvalue\u001b[0m\u001b[0;34m]\u001b[0m\u001b[0;34m,\u001b[0m \u001b[0maxis\u001b[0m\u001b[0;34m=\u001b[0m\u001b[0;36m1\u001b[0m\u001b[0;34m)\u001b[0m\u001b[0;34m\u001b[0m\u001b[0;34m\u001b[0m\u001b[0m\n\u001b[0m\u001b[1;32m    835\u001b[0m \u001b[0;34m\u001b[0m\u001b[0m\n\u001b[1;32m    836\u001b[0m             \u001b[0mdf\u001b[0m \u001b[0;34m=\u001b[0m \u001b[0mpd\u001b[0m\u001b[0;34m.\u001b[0m\u001b[0mconcat\u001b[0m\u001b[0;34m(\u001b[0m\u001b[0;34m[\u001b[0m\u001b[0mpsp_df_all\u001b[0m\u001b[0;34m,\u001b[0m \u001b[0mshen_df_all\u001b[0m\u001b[0;34m]\u001b[0m\u001b[0;34m)\u001b[0m\u001b[0;34m.\u001b[0m\u001b[0mgroupby\u001b[0m\u001b[0;34m(\u001b[0m\u001b[0;34m[\u001b[0m\u001b[0;34m'achieved'\u001b[0m\u001b[0;34m,\u001b[0m \u001b[0;34m'policy'\u001b[0m\u001b[0;34m,\u001b[0m \u001b[0;34m'type'\u001b[0m\u001b[0;34m]\u001b[0m\u001b[0;34m)\u001b[0m\u001b[0;34m.\u001b[0m\u001b[0mmin\u001b[0m\u001b[0;34m(\u001b[0m\u001b[0;34m)\u001b[0m\u001b[0;34m.\u001b[0m\u001b[0mreset_index\u001b[0m\u001b[0;34m(\u001b[0m\u001b[0mdrop\u001b[0m\u001b[0;34m=\u001b[0m\u001b[0;32mFalse\u001b[0m\u001b[0;34m)\u001b[0m\u001b[0;34m\u001b[0m\u001b[0;34m\u001b[0m\u001b[0m\n",
      "\u001b[0;32m/psp/sosp_aec/loader.py\u001b[0m in \u001b[0;36mprepare_pctl_data\u001b[0;34m(rtypes, exps, exp_file, app, dt, reset_cache, remove_drops, full_sample, verbose, **kwargs)\u001b[0m\n\u001b[1;32m    503\u001b[0m         '''\n\u001b[1;32m    504\u001b[0m         \u001b[0;32mif\u001b[0m \u001b[0mremove_drops\u001b[0m \u001b[0;32mand\u001b[0m \u001b[0msum\u001b[0m\u001b[0;34m(\u001b[0m\u001b[0mrate_df\u001b[0m\u001b[0;34m.\u001b[0m\u001b[0mACHIEVED\u001b[0m \u001b[0;34m<\u001b[0m \u001b[0mrate_df\u001b[0m\u001b[0;34m.\u001b[0m\u001b[0mOFFERED\u001b[0m \u001b[0;34m*\u001b[0m \u001b[0;36m.999\u001b[0m\u001b[0;34m)\u001b[0m \u001b[0;34m==\u001b[0m \u001b[0;36m1\u001b[0m\u001b[0;34m:\u001b[0m\u001b[0;34m\u001b[0m\u001b[0;34m\u001b[0m\u001b[0m\n\u001b[0;32m--> 505\u001b[0;31m             \u001b[0mprint\u001b[0m\u001b[0;34m(\u001b[0m\u001b[0;34mf'Exp {exp} dropped requests (achieved={rate_df.ACHIEVED.values}, offered={rate_df.OFFERED.values}) passing.'\u001b[0m\u001b[0;34m)\u001b[0m\u001b[0;34m\u001b[0m\u001b[0;34m\u001b[0m\u001b[0m\n\u001b[0m\u001b[1;32m    506\u001b[0m             \u001b[0;32mcontinue\u001b[0m\u001b[0;34m\u001b[0m\u001b[0;34m\u001b[0m\u001b[0m\n\u001b[1;32m    507\u001b[0m         '''\n",
      "\u001b[0;31mKeyError\u001b[0m: 'cPREMQ'"
     ]
    }
   ],
   "source": [
    "plot_p99s(['Figure5_a'], app='MB', reset_cache=False, use_ylim=True, clients=[0,1,2,3,4,5], value=\"p99.9\", close_all=True, remove_drops=True, add_shen=False)"
   ]
  },
  {
   "cell_type": "markdown",
   "metadata": {},
   "source": [
    "# Figure 5-b"
   ]
  },
  {
   "cell_type": "markdown",
   "metadata": {},
   "source": [
    "# Figure 6"
   ]
  },
  {
   "cell_type": "markdown",
   "metadata": {},
   "source": [
    "# Figure 7"
   ]
  },
  {
   "cell_type": "markdown",
   "metadata": {},
   "source": [
    "# Figure 8"
   ]
  },
  {
   "cell_type": "code",
   "execution_count": 25,
   "metadata": {},
   "outputs": [
    {
     "name": "stdout",
     "output_type": "stream",
     "text": [
      "Automatic pdb calling has been turned ON\n"
     ]
    },
    {
     "data": {
      "application/vnd.jupyter.widget-view+json": {
       "model_id": "7d9deb5a7d3042c7948504a5a2f8e34e",
       "version_major": 2,
       "version_minor": 0
      },
      "text/plain": [
       "Canvas(toolbar=Toolbar(toolitems=[('Home', 'Reset original view', 'home', 'home'), ('Back', 'Back to previous …"
      ]
     },
     "metadata": {},
     "output_type": "display_data"
    },
    {
     "name": "stdout",
     "output_type": "stream",
     "text": [
      "filling between 0.0 and 5.11282762742\n",
      "filling between 5.11282762742 and 10.325906776947\n",
      "filling between 10.325906776947 and 15.538985926473\n",
      "filling between 15.538985926473 and 20.752065076\n",
      "plotted data in 34.255152463912964\n"
     ]
    }
   ],
   "source": [
    "exps = ['DYN-RESA_0.80_sched4_14.40']\n",
    "plot_agg_p99_over_time(exps, reset_cache=False, debug=False)"
   ]
  },
  {
   "cell_type": "code",
   "execution_count": 74,
   "metadata": {},
   "outputs": [],
   "source": [
    "\n",
    "# l1 = {\n",
    "#     'policy': 'c-PRE-MQ',\n",
    "#     'load': 0.80,\n",
    "#     'type': 'UNKNOWN',\n",
    "#     'mean': 18,\n",
    "#     'median': 16,\n",
    "#     'p99': 1e9,\n",
    "#     'p99.9': 1e9,\n",
    "#     'p99.99': 1e9,\n",
    "#     'p99_slowdown': 1e9,\n",
    "#     'p99.9_slowdown': 1e9,\n",
    "#     'achieved': 34,\n",
    "#     'offered': 34,\n",
    "# }\n",
    "\n",
    "# l3 = {\n",
    "#     'policy': 'DYN-RESA',\n",
    "#     'load': 1,\n",
    "#     'type': 'SHORT',\n",
    "#     'mean': 18,\n",
    "#     'median': 16,\n",
    "#     'p99': 1e9,\n",
    "#     'p99.9': 1e9,\n",
    "#     'p99.99': 1e9,\n",
    "#     'p99_slowdown': 1e9,\n",
    "#     'p99.9_slowdown': 1e9,\n",
    "#     'achieved': 45,\n",
    "#     'offered': 45,\n",
    "# }\n",
    "# cache['ROCKSDB']['all'] = cache['ROCKSDB']['all'].append(l1, ignore_index=True)\n",
    "# cache['ROCKSDB']['typed'] = cache['ROCKSDB']['typed'].append(l3, ignore_index=True)\n",
    "\n",
    "\n",
    "\n",
    "# l1 = {\n",
    "#     'policy': 'c-PRE-SQ',\n",
    "#     'load': 0.60,\n",
    "#     'type': 'UNKNOWN',\n",
    "#     'mean': 18,\n",
    "#     'median': 16,\n",
    "#     'p99': 60,\n",
    "#     'p99.9': '1e9',\n",
    "#     'p99.99': '1e9',\n",
    "#     'p99_slowdown': 1e9,\n",
    "#     'p99.9_slowdown': 1e9,\n",
    "#     'achieved': 2805,\n",
    "#     'offered': 2805,\n",
    "# }\n",
    "\n",
    "\n",
    "# l3 = {\n",
    "#     'policy': 'DYN-RESA',\n",
    "#     'load': 0.85,\n",
    "#     'type': 'UNKNOWN',\n",
    "#     'mean': 18,\n",
    "#     'median': 16,\n",
    "#     'p99': 60,\n",
    "#     'p99.9': '1e9',\n",
    "#     'p99.99': '1e9',\n",
    "#     'p99_slowdown': 1e9,\n",
    "#     'p99.9_slowdown': 1e9,\n",
    "#     'achieved': 4000,\n",
    "#     'offered': 4000,\n",
    "# }\n",
    "# cache['SBIM2']['all'] = cache['SBIM2']['all'].append(l1, ignore_index=True)\n",
    "# cache['SBIM2']['all'] = cache['SBIM2']['all'].append(l3, ignore_index=True)\n",
    "# cache['SBIM2']['typed'].\n",
    "\n",
    "\n",
    "l1 = {\n",
    "    'policy': 'c-PRE-MQ',\n",
    "    'load': 0.80,\n",
    "    'type': 'UNKNOWN',\n",
    "    'mean': 18,\n",
    "    'median': 16,\n",
    "    'p99': 1e9,\n",
    "    'p99.9': 1e9,\n",
    "    'p99.99': 1e9,\n",
    "    'p99_slowdown': 1e9,\n",
    "    'p99.9_slowdown': 1e9,\n",
    "    'achieved': 220,\n",
    "    'offered': 220,\n",
    "}\n",
    "\n",
    "# l3 = {\n",
    "#     'policy': 'DYN-RESA',\n",
    "#     'load': 0.95,\n",
    "#     'type': 'UNKNOWN',\n",
    "#     'mean': 18,\n",
    "#     'median': 16,\n",
    "#     'p99': 1e9,\n",
    "#     'p99.9': 1e9,\n",
    "#     'p99.99': 1e9,\n",
    "#     'p99_slowdown': 1e9,\n",
    "#     'p99.9_slowdown': 1e9,\n",
    "#     'achieved': 270,\n",
    "#     'offered': 270,\n",
    "# }\n",
    "cache['DISP2']['all'] = cache['DISP2']['all'].append(l1, ignore_index=True)\n",
    "# cache['DISP2']['all'] = cache['DISP2']['all'].append(l3, ignore_index=True)"
   ]
  }
 ],
 "metadata": {
  "kernelspec": {
   "display_name": "Python 3",
   "language": "python",
   "name": "python3"
  },
  "language_info": {
   "codemirror_mode": {
    "name": "ipython",
    "version": 3
   },
   "file_extension": ".py",
   "mimetype": "text/x-python",
   "name": "python",
   "nbconvert_exporter": "python",
   "pygments_lexer": "ipython3",
   "version": "3.6.9"
  }
 },
 "nbformat": 4,
 "nbformat_minor": 4
}
