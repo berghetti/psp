{
 "cells": [
  {
   "cell_type": "markdown",
   "metadata": {},
   "source": [
    "# Reproducing Perséphone results\n",
    "\n",
    "## General instructions\n",
    "\n",
    "- For each figure, the notebook contains commands to generate and plot the results.\n",
    "- Start a terminal on the docker instance with `docker exec -it CONTAINER_ID /bin/bash`\n",
    "- Find the container id with `docker ps`\n",
    "\n",
    "## Featured results\n",
    "\n",
    "- [Figure 3](#Figure-3)\n",
    "- [Figure 4-a](#Figure-4-a)\n",
    "- [Figure 5-a](#Figure-5-a)\n",
    "- [Figure 5-b](#Figure-5-b)\n",
    "- [Figure 6](#Figure-6)\n",
    "- [Figure 7](#Figure-7)\n",
    "- [Figure 8](#Figure-8)\n",
    "\n",
    "Each experiment runs 5 to 100% load, in 5% increment. Each load point represents 5 seconds of traffic (20 seconds in the paper). Each figure presents 3 to 4 scheduling policies. Overall, we estimate that generating the results takes about 2 hours.\n",
    "Plotting itself takes time --- we are working on enhancing the data parsers to make them more performant.\n",
    "\n",
    "The overall process could take between 3 and 4 hours.\n",
    "\n",
    "## Notes\n",
    "\n",
    "- Make sure to use the correct kernel for Shinjuku (4.4.0-187-generic) and Shenango (4.15.0-142-generic) before generating the respective data\n",
    "- Each figure has a list of experiment (one per load point). You can find this list in /psp/experiments/[Figure number].\n",
    "- Experiments can fail and you will have to rerun them. Specifically, we have seen cases where:\n",
    "    - The server program does not stop and must be manually terminated (impact: Shremote hangs)\n",
    "    - Shinjuku crashes due to \"dune: exit due to unhandled VM exit\"\n",
    "    - Shremote fails to execute some management command over SSH such as removing a directory\n",
    "- When plotting, if you see a message such as \"/psp/experiments/CFCFS_0.70_DISP2_14.0/client0/traces_rates does not exist\", you will have to run again this data point\n",
    "- The run.py script can take a --load-range argument. Usage: --load-range [low] [high], where low and high are load bounds used to generate 5% load increments per experiment. For example, --load-range .40 .41 will only run the experiment at 40% load."
   ]
  },
  {
   "cell_type": "code",
   "execution_count": 1,
   "metadata": {},
   "outputs": [],
   "source": [
    "%matplotlib widget\n",
    "import sys\n",
    "import seaborn as sns\n",
    "import matplotlib\n",
    "import matplotlib.gridspec as gridspec\n",
    "import matplotlib.pyplot as plt\n",
    "import matplotlib.colors as mcolors\n",
    "from matplotlib.ticker import ScalarFormatter\n",
    "from matplotlib import lines\n",
    "import pandas as pd\n",
    "import numpy as np\n",
    "from pathlib import Path\n",
    "from loader import *"
   ]
  },
  {
   "cell_type": "markdown",
   "metadata": {},
   "source": [
    "# Figure 3"
   ]
  },
  {
   "cell_type": "code",
   "execution_count": null,
   "metadata": {
    "scrolled": false
   },
   "outputs": [],
   "source": [
    "# To generate the results, issue the following commands\n",
    "# 1) `${AE_DIR}/Persephone/sosp_aec/base_start.sh Persephone` on the server\n",
    "# 2) Then run the following in the container:\n",
    "# /psp/Shremote_cfgs/run.py 0 psp DISP2 -p DARC CFCFS DFCFS\n",
    "\n",
    "plot_p99s(['Figure3'], app='MB', reset_cache=False, use_ylim=True, clients=[0,1,2,3,4,5], value=\"p99.9\", close_all=True, remove_drops=True, add_shen=False, ncols=3)"
   ]
  },
  {
   "cell_type": "markdown",
   "metadata": {},
   "source": [
    "# Figure 4-a"
   ]
  },
  {
   "cell_type": "code",
   "execution_count": null,
   "metadata": {},
   "outputs": [],
   "source": [
    "# 1) `${AE_DIR}/Persephone/sosp_aec/base_start.sh Persephone` on the server\n",
    "# 2) Then run the following in the container:\n",
    "# /psp/Shremote_cfgs/fig4.sh\n",
    "\n",
    "plot_wcc('Figure4_a', reset_cache=False, value='p99', darc_cores=1, clients=[0,1,2,3,4,5])"
   ]
  },
  {
   "cell_type": "markdown",
   "metadata": {},
   "source": [
    "# Figure 5-a"
   ]
  },
  {
   "cell_type": "code",
   "execution_count": null,
   "metadata": {
    "scrolled": false
   },
   "outputs": [],
   "source": [
    "# Shinjuku data:\n",
    "# 1) `${AE_DIR}/Persephone/sosp_aec/base_start.sh shinjuku` on the server\n",
    "# 2) Then run the following in the container:\n",
    "# /psp/Shremote_cfgs/run.py 0 shinjuku DISP2_IX -p cPREMQ --load-range .05 .80\n",
    "\n",
    "# Perséphone data: already generated for figure 3\n",
    "\n",
    "# Shenango data:\n",
    "# 1) Reboot the machine with Linux 4.15 using pick_kernel.sh\n",
    "# 2) `${AE_DIR}/Persephone/sosp_aec/base_start.sh Shenango` on the server\n",
    "# 3) /psp/Shremote_cfgs/run.py 0 shenango DISP2 -p CFCFS DFCFS --load-range .05 .90\n",
    "\n",
    "plot_p99s(['Figure5_a'], app='MB', reset_cache=True, use_ylim=True, clients=[0,1,2,3,4,5], value=\"p99.9\", close_all=True, remove_drops=True)"
   ]
  },
  {
   "cell_type": "markdown",
   "metadata": {},
   "source": [
    "# Figure 5-b"
   ]
  },
  {
   "cell_type": "code",
   "execution_count": null,
   "metadata": {
    "scrolled": false
   },
   "outputs": [],
   "source": [
    "# Shinjuku data:\n",
    "# 1) `${AE_DIR}/Persephone/sosp_aec/base_start.sh shinjuku` on the server\n",
    "# 2) `/psp/Shremote_cfgs/run.py 0 shinjuku SBIM2_IX -p cPREMQ --load-range .05 .60`\n",
    "\n",
    "# Perséphone data:\n",
    "# 1) `${AE_DIR}/Persephone/sosp_aec/base_start.sh Persephone` on the server\n",
    "# 2) `/psp/Shremote_cfgs/run.py 0 psp SBIM2 -p DARC`\n",
    "\n",
    "# Shenango data:\n",
    "# 1) Reboot the machine with Linux 4.15 using pick_kernel.sh\n",
    "# 2) `${AE_DIR}/Persephone/sosp_aec/base_start.sh Shenango` on the server\n",
    "# 3) `/psp/Shremote_cfgs/run.py 0 shenango DISP2 -p CFCFS DFCFS --load-range .05 .90`\n",
    "\n",
    "plot_p99s(['Figure5_b'], app='MB', reset_cache=True, use_ylim=True, clients=[0,1,2,3,4,5], value=\"p99.9\", close_all=True, remove_drops=True)"
   ]
  },
  {
   "cell_type": "markdown",
   "metadata": {},
   "source": [
    "# Figure 6"
   ]
  },
  {
   "cell_type": "code",
   "execution_count": null,
   "metadata": {
    "scrolled": false
   },
   "outputs": [],
   "source": [
    "# Shinjuku data:\n",
    "# 1) `${AE_DIR}/Persephone/sosp_aec/base_start.sh shinjuku` on the server\n",
    "# 2) `/psp/Shremote_cfgs/run.py 0 shinjuku SBIM2_IX -p cPREMQ --load-range .05 .90`\n",
    "\n",
    "# Perséphone data:\n",
    "# 1) `${AE_DIR}/Persephone/sosp_aec/base_start.sh Persephone` on the server\n",
    "# 2) `/psp/Shremote_cfgs/run.py 0 psp TPCC -p DARC`\n",
    "\n",
    "# Shenango data:\n",
    "# 1) Reboot the machine with Linux 4.15 using pick_kernel.sh\n",
    "# 2) `${AE_DIR}/Persephone/sosp_aec/base_start.sh Shenango` on the server\n",
    "# 3) `/psp/Shremote_cfgs/run.py 0 shenango TPCC -p CFCFS DFCFS`\n",
    "\n",
    "plot_p99s(['Figure6'], app='MB', ncols=-1, reset_cache=False, use_ylim=True, clients=[0,1,2,3,4,5], value=\"p99.9\", close_all=True, remove_drops=True)"
   ]
  },
  {
   "cell_type": "markdown",
   "metadata": {},
   "source": [
    "# Figure 7"
   ]
  },
  {
   "cell_type": "code",
   "execution_count": null,
   "metadata": {},
   "outputs": [],
   "source": [
    "# Shinjuku data:\n",
    "# 1) `${AE_DIR}/Persephone/sosp_aec/base_start.sh shinjuku` on the server\n",
    "# 2) `/psp/Shremote_cfgs/run.py 0 shinjuku ROCKSDB_IX -p cPREMQ --load-range .05 .80 --app-type ROCKSDB`\n",
    "\n",
    "# Perséphone data:\n",
    "# 1) `${AE_DIR}/Persephone/sosp_aec/base_start.sh Persephone` on the server\n",
    "# 2) `/psp/Shremote_cfgs/run.py 0 psp ROCKSDB -p DARC --app-type ROCKSDB`\n",
    "\n",
    "# Shenango data:\n",
    "# 1) Reboot the machine with Linux 4.15 using pick_kernel.sh\n",
    "# 2) `${AE_DIR}/Persephone/sosp_aec/base_start.sh Shenango` on the server\n",
    "# 3) `/psp/Shremote_cfgs/run.py 0 shenango ROCKSDB -p CFCFS DFCFS --app-type ROCKSDB`\n",
    "\n",
    "plot_p99s(['Figure7'], app='ROCKSDB', ncols=1, reset_cache=False, use_ylim=True, clients=[0,1,2,3,4,5], value=\"p99.9\", close_all=True, remove_drops=True)"
   ]
  },
  {
   "cell_type": "markdown",
   "metadata": {},
   "source": [
    "# Figure 8"
   ]
  },
  {
   "cell_type": "code",
   "execution_count": 3,
   "metadata": {},
   "outputs": [
    {
     "name": "stdout",
     "output_type": "stream",
     "text": [
      "Slicing 19.953558618 seconds of data in 199 bins\n",
      "Bins created in 1.3533384799957275\n",
      "Slicing 19.953420613 seconds of data in 199 bins\n",
      "Bins created in 1.373410701751709\n"
     ]
    },
    {
     "data": {
      "application/vnd.jupyter.widget-view+json": {
       "model_id": "c9a9cdc1e2684a74a1114924a7f7511e",
       "version_major": 2,
       "version_minor": 0
      },
      "text/plain": [
       "Canvas(toolbar=Toolbar(toolitems=[('Home', 'Reset original view', 'home', 'home'), ('Back', 'Back to previous …"
      ]
     },
     "metadata": {},
     "output_type": "display_data"
    },
    {
     "name": "stdout",
     "output_type": "stream",
     "text": [
      "filling between 0.000 and 4.913\n",
      "filling between 4.913 and 9.927\n",
      "filling between 9.927 and 14.940\n",
      "filling between 14.940 and 19.953\n",
      "plotted data in 254.37213730812073\n"
     ]
    }
   ],
   "source": [
    "# `${AE_DIR}/Persephone/sosp_aec/base_start.sh Persephone` on the server\n",
    "# `/psp/Shremote_cfgs/run.py 0 psp sched4 -p DARC CFCFS --load-range .80 .81 --downsample 0`\n",
    "plot_agg_p99_over_time(['DARC_0.80_sched4_14.0', 'CFCFS_0.80_sched4_14.0'], reset_cache=False, debug=False)"
   ]
  }
 ],
 "metadata": {
  "kernelspec": {
   "display_name": "Python 3",
   "language": "python",
   "name": "python3"
  },
  "language_info": {
   "codemirror_mode": {
    "name": "ipython",
    "version": 3
   },
   "file_extension": ".py",
   "mimetype": "text/x-python",
   "name": "python",
   "nbconvert_exporter": "python",
   "pygments_lexer": "ipython3",
   "version": "3.6.9"
  }
 },
 "nbformat": 4,
 "nbformat_minor": 4
}
