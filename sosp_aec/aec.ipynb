{
 "cells": [
  {
   "cell_type": "code",
   "execution_count": 1,
   "metadata": {},
   "outputs": [],
   "source": [
    "%matplotlib widget\n",
    "# %matplotlib notebook\n",
    "import sys\n",
    "import seaborn as sns\n",
    "import matplotlib\n",
    "import matplotlib.gridspec as gridspec\n",
    "import matplotlib.pyplot as plt\n",
    "import matplotlib.colors as mcolors\n",
    "from matplotlib.ticker import ScalarFormatter\n",
    "from matplotlib import lines\n",
    "import pandas as pd\n",
    "import numpy as np\n",
    "from pathlib import Path\n",
    "from loader import *"
   ]
  },
  {
   "cell_type": "markdown",
   "metadata": {},
   "source": [
    "# Figure 3"
   ]
  },
  {
   "cell_type": "code",
   "execution_count": 2,
   "metadata": {
    "scrolled": false
   },
   "outputs": [],
   "source": [
    "# To generate the results, issue the following commands\n",
    "# 1) `${AE_DIR}/Persephone/sosp_aec/base_start.sh Persephone` on the server\n",
    "# 2) Then run the following (remove the \"!\" if running in a terminal):\n",
    "# !/psp/Shremote_cfgs/run.py 0 psp DISP2 -p DARC CFCFS DFCFS # add > /dev/null to suppress output"
   ]
  },
  {
   "cell_type": "code",
   "execution_count": null,
   "metadata": {
    "scrolled": false
   },
   "outputs": [],
   "source": [
    "%pdb off\n",
    "distros = ['Figure3']\n",
    "plot_p99s(distros, app='MB', reset_cache=False, use_ylim=True, clients=[0,1,2,3,4,5], value=\"p99.9\", close_all=True, remove_drops=True, add_shen=False)"
   ]
  },
  {
   "cell_type": "code",
   "execution_count": 25,
   "metadata": {},
   "outputs": [
    {
     "name": "stdout",
     "output_type": "stream",
     "text": [
      "Automatic pdb calling has been turned ON\n"
     ]
    },
    {
     "data": {
      "application/vnd.jupyter.widget-view+json": {
       "model_id": "7d9deb5a7d3042c7948504a5a2f8e34e",
       "version_major": 2,
       "version_minor": 0
      },
      "text/plain": [
       "Canvas(toolbar=Toolbar(toolitems=[('Home', 'Reset original view', 'home', 'home'), ('Back', 'Back to previous …"
      ]
     },
     "metadata": {},
     "output_type": "display_data"
    },
    {
     "name": "stdout",
     "output_type": "stream",
     "text": [
      "filling between 0.0 and 5.11282762742\n",
      "filling between 5.11282762742 and 10.325906776947\n",
      "filling between 10.325906776947 and 15.538985926473\n",
      "filling between 15.538985926473 and 20.752065076\n",
      "plotted data in 34.255152463912964\n"
     ]
    }
   ],
   "source": [
    "%pdb on\n",
    "exps = ['DYN-RESA_0.80_sched4_14.40']\n",
    "plot_agg_p99_over_time(exps, reset_cache=False, debug=False)"
   ]
  },
  {
   "cell_type": "markdown",
   "metadata": {},
   "source": [
    "# Figure 4"
   ]
  },
  {
   "cell_type": "markdown",
   "metadata": {},
   "source": [
    "# Figure 5-a"
   ]
  },
  {
   "cell_type": "markdown",
   "metadata": {},
   "source": [
    "# Figure 5-b"
   ]
  },
  {
   "cell_type": "markdown",
   "metadata": {},
   "source": [
    "# Figure 6"
   ]
  },
  {
   "cell_type": "markdown",
   "metadata": {},
   "source": [
    "# Figure 7"
   ]
  },
  {
   "cell_type": "markdown",
   "metadata": {},
   "source": [
    "# Figure 8"
   ]
  },
  {
   "cell_type": "code",
   "execution_count": 74,
   "metadata": {},
   "outputs": [],
   "source": [
    "\n",
    "# l1 = {\n",
    "#     'policy': 'c-PRE-MQ',\n",
    "#     'load': 0.80,\n",
    "#     'type': 'UNKNOWN',\n",
    "#     'mean': 18,\n",
    "#     'median': 16,\n",
    "#     'p99': 1e9,\n",
    "#     'p99.9': 1e9,\n",
    "#     'p99.99': 1e9,\n",
    "#     'p99_slowdown': 1e9,\n",
    "#     'p99.9_slowdown': 1e9,\n",
    "#     'achieved': 34,\n",
    "#     'offered': 34,\n",
    "# }\n",
    "\n",
    "# l3 = {\n",
    "#     'policy': 'DYN-RESA',\n",
    "#     'load': 1,\n",
    "#     'type': 'SHORT',\n",
    "#     'mean': 18,\n",
    "#     'median': 16,\n",
    "#     'p99': 1e9,\n",
    "#     'p99.9': 1e9,\n",
    "#     'p99.99': 1e9,\n",
    "#     'p99_slowdown': 1e9,\n",
    "#     'p99.9_slowdown': 1e9,\n",
    "#     'achieved': 45,\n",
    "#     'offered': 45,\n",
    "# }\n",
    "# cache['ROCKSDB']['all'] = cache['ROCKSDB']['all'].append(l1, ignore_index=True)\n",
    "# cache['ROCKSDB']['typed'] = cache['ROCKSDB']['typed'].append(l3, ignore_index=True)\n",
    "\n",
    "\n",
    "\n",
    "# l1 = {\n",
    "#     'policy': 'c-PRE-SQ',\n",
    "#     'load': 0.60,\n",
    "#     'type': 'UNKNOWN',\n",
    "#     'mean': 18,\n",
    "#     'median': 16,\n",
    "#     'p99': 60,\n",
    "#     'p99.9': '1e9',\n",
    "#     'p99.99': '1e9',\n",
    "#     'p99_slowdown': 1e9,\n",
    "#     'p99.9_slowdown': 1e9,\n",
    "#     'achieved': 2805,\n",
    "#     'offered': 2805,\n",
    "# }\n",
    "\n",
    "\n",
    "# l3 = {\n",
    "#     'policy': 'DYN-RESA',\n",
    "#     'load': 0.85,\n",
    "#     'type': 'UNKNOWN',\n",
    "#     'mean': 18,\n",
    "#     'median': 16,\n",
    "#     'p99': 60,\n",
    "#     'p99.9': '1e9',\n",
    "#     'p99.99': '1e9',\n",
    "#     'p99_slowdown': 1e9,\n",
    "#     'p99.9_slowdown': 1e9,\n",
    "#     'achieved': 4000,\n",
    "#     'offered': 4000,\n",
    "# }\n",
    "# cache['SBIM2']['all'] = cache['SBIM2']['all'].append(l1, ignore_index=True)\n",
    "# cache['SBIM2']['all'] = cache['SBIM2']['all'].append(l3, ignore_index=True)\n",
    "# cache['SBIM2']['typed'].\n",
    "\n",
    "\n",
    "l1 = {\n",
    "    'policy': 'c-PRE-MQ',\n",
    "    'load': 0.80,\n",
    "    'type': 'UNKNOWN',\n",
    "    'mean': 18,\n",
    "    'median': 16,\n",
    "    'p99': 1e9,\n",
    "    'p99.9': 1e9,\n",
    "    'p99.99': 1e9,\n",
    "    'p99_slowdown': 1e9,\n",
    "    'p99.9_slowdown': 1e9,\n",
    "    'achieved': 220,\n",
    "    'offered': 220,\n",
    "}\n",
    "\n",
    "# l3 = {\n",
    "#     'policy': 'DYN-RESA',\n",
    "#     'load': 0.95,\n",
    "#     'type': 'UNKNOWN',\n",
    "#     'mean': 18,\n",
    "#     'median': 16,\n",
    "#     'p99': 1e9,\n",
    "#     'p99.9': 1e9,\n",
    "#     'p99.99': 1e9,\n",
    "#     'p99_slowdown': 1e9,\n",
    "#     'p99.9_slowdown': 1e9,\n",
    "#     'achieved': 270,\n",
    "#     'offered': 270,\n",
    "# }\n",
    "cache['DISP2']['all'] = cache['DISP2']['all'].append(l1, ignore_index=True)\n",
    "# cache['DISP2']['all'] = cache['DISP2']['all'].append(l3, ignore_index=True)"
   ]
  }
 ],
 "metadata": {
  "kernelspec": {
   "display_name": "Python 3",
   "language": "python",
   "name": "python3"
  },
  "language_info": {
   "codemirror_mode": {
    "name": "ipython",
    "version": 3
   },
   "file_extension": ".py",
   "mimetype": "text/x-python",
   "name": "python",
   "nbconvert_exporter": "python",
   "pygments_lexer": "ipython3",
   "version": "3.6.9"
  }
 },
 "nbformat": 4,
 "nbformat_minor": 4
}
