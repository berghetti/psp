{
 "cells": [
  {
   "cell_type": "markdown",
   "metadata": {},
   "source": [
    "# Reproducing Perséphone results\n",
    "\n",
    "## General instructions\n",
    "\n",
    "- For each figure, the notebook contains commands to generate and plot the results.\n",
    "- Start a terminal on the docker instance with `docker exec -it CONTAINER_ID /bin/bash`\n",
    "\n",
    "## Featured results\n",
    "\n",
    "- [Figure 3](#Figure-3)\n",
    "- [Figure 4-a](#Figure-4-a)\n",
    "- [Figure 5-a](#Figure-5-a)\n",
    "- [Figure 5-b](#Figure-5-b)\n",
    "- [Figure 6](#Figure-6)\n",
    "- [Figure 7](#Figure-7)\n",
    "- [Figure 8](#Figure-8)\n",
    "\n",
    "Each experiment runs 5 to 100% load, in 5% increment. Each load point represents 20 seconds of traffic. Each figure presents 3 to 4 scheduling policies. Overall, we estimate that generating the results takes between 100 and 130mn.\n",
    "Plotting itself takes time --- we are working on enhancing the data parsers to make them more performant.\n",
    "\n",
    "The overall process could take between 3 and 4 hours.\n",
    "\n",
    "## Notes\n",
    "\n",
    "- Each figure has a list of experiment (one per load point). You can find this list in /psp/experiments/[Figure number].\n",
    "- Though automated, some experiments could fail and you will have to rerun them. Usually, this means that a specific datapoint must be manually replayed.\n",
    "- Specifically, we have seen cases where:\n",
    "    - The server program does not stop and must be manually terminated (impact: Shremote hangs)\n",
    "    - Shinjuku crashes due to \"dune: exit due to unhandled VM exit\"\n",
    "    - Shremote fails to execute some management command over SSH such as removing a directory\n",
    "- When plotting, if you see a message such as \"/psp/experiments/CFCFS_0.70_DISP2_14.0/client0/traces_rates does not exist\", you will have to run again this data point\n",
    "- The run.py script can take a --load-range argument. Usage: --load-range low high, where low and high are load bounds used to generate 5% load increments per experiment. For example, --load-range .40 .41 will only run the experiment at 40% load.\n",
    "- We are aware of an issue in terminating shinjuku that causes an error message to be printed in the shremote log, but does not impact the results."
   ]
  },
  {
   "cell_type": "code",
   "execution_count": 1,
   "metadata": {},
   "outputs": [],
   "source": [
    "%matplotlib widget\n",
    "# %matplotlib notebook\n",
    "import sys\n",
    "import seaborn as sns\n",
    "import matplotlib\n",
    "import matplotlib.gridspec as gridspec\n",
    "import matplotlib.pyplot as plt\n",
    "import matplotlib.colors as mcolors\n",
    "from matplotlib.ticker import ScalarFormatter\n",
    "from matplotlib import lines\n",
    "import pandas as pd\n",
    "import numpy as np\n",
    "from pathlib import Path\n",
    "from loader import *"
   ]
  },
  {
   "cell_type": "markdown",
   "metadata": {},
   "source": [
    "# Figure 3"
   ]
  },
  {
   "cell_type": "code",
   "execution_count": null,
   "metadata": {
    "scrolled": false
   },
   "outputs": [],
   "source": [
    "# To generate the results, issue the following commands\n",
    "# 1) `${AE_DIR}/Persephone/sosp_aec/base_start.sh Persephone` on the server\n",
    "# 2) Then run the following in the container:\n",
    "# /psp/Shremote_cfgs/run.py 0 psp DISP2 -p DARC CFCFS DFCFS\n",
    "plot_p99s(['Figure3'], app='MB', reset_cache=False, use_ylim=True, clients=[0,1,2,3,4,5], value=\"p99.9\", close_all=True, remove_drops=True, add_shen=False, ncols=3)"
   ]
  },
  {
   "cell_type": "markdown",
   "metadata": {},
   "source": [
    "# Figure 4-a"
   ]
  },
  {
   "cell_type": "code",
   "execution_count": 6,
   "metadata": {},
   "outputs": [
    {
     "data": {
      "application/vnd.jupyter.widget-view+json": {
       "model_id": "ab0a4267c4324deea0072b47784e4b61",
       "version_major": 2,
       "version_minor": 0
      },
      "text/plain": [
       "Canvas(toolbar=Toolbar(toolitems=[('Home', 'Reset original view', 'home', 'home'), ('Back', 'Back to previous …"
      ]
     },
     "metadata": {},
     "output_type": "display_data"
    }
   ],
   "source": [
    "# 1) `${AE_DIR}/Persephone/sosp_aec/base_start.sh Persephone` on the server\n",
    "# 2) Then run the following in the container:\n",
    "# /psp/Shremote_cfgs/fig4.sh\n",
    "plot_wcc('Figure4_a', reset_cache=False, value='p99', darc_cores=1, clients=[0,1,2,3,4,5])"
   ]
  },
  {
   "cell_type": "markdown",
   "metadata": {},
   "source": [
    "# Figure 5-a"
   ]
  },
  {
   "cell_type": "code",
   "execution_count": 2,
   "metadata": {
    "scrolled": false
   },
   "outputs": [
    {
     "data": {
      "application/vnd.jupyter.widget-view+json": {
       "model_id": "311f6d4a7aff4449a3cc1a274766d189",
       "version_major": 2,
       "version_minor": 0
      },
      "text/plain": [
       "Canvas(toolbar=Toolbar(toolitems=[('Home', 'Reset original view', 'home', 'home'), ('Back', 'Back to previous …"
      ]
     },
     "metadata": {},
     "output_type": "display_data"
    },
    {
     "name": "stdout",
     "output_type": "stream",
     "text": [
      "/psp/experiments/shen-CFCFS_0.45_DISP2_14.0/client4/traces_rates does not exist\n",
      "/psp/experiments/shen-CFCFS_0.45_DISP2_14.0/client4/traces_hist does not exist\n",
      "[shen-CFCFS_0.45_DISP2_14.0] Missing 1 client histogram(s)\n",
      "[Figure5_a] Parsed histograms in 261.639959 seconds\n"
     ]
    },
    {
     "name": "stderr",
     "output_type": "stream",
     "text": [
      "findfont: Font family ['normal'] not found. Falling back to DejaVu Sans.\n"
     ]
    },
    {
     "name": "stdout",
     "output_type": "stream",
     "text": [
      "[Figure5_a] Prepared df rows in 0.292466 seconds\n",
      "[Figure5_a] Created df in 0.024886 seconds\n"
     ]
    }
   ],
   "source": [
    "# Shinjuku data:\n",
    "# 1) `${AE_DIR}/Persephone/sosp_aec/base_start.sh shinjuku` on the server\n",
    "# 2) Then run the following in the container:\n",
    "# /psp/Shremote_cfgs/run.py 0 shinjuku DISP2_IX -p cPREMQ --load-range .05 .80\n",
    "\n",
    "# Perséphone data: already generated for figure 3\n",
    "\n",
    "# Shenango data:\n",
    "# 1) Reboot the machine with Linux 4.15 using pick_kernel.sh\n",
    "# 2) `${AE_DIR}/Persephone/sosp_aec/base_start.sh Shenango` on the server\n",
    "# 3) /psp/Shremote_cfgs/run.py 0 shenango DISP2 -p CFCFS DFCFS --load-range .05 .80\n",
    "plot_p99s(['Figure5_a'], app='MB', reset_cache=True, use_ylim=True, clients=[0,1,2,3,4,5], value=\"p99.9\", close_all=True, remove_drops=True)"
   ]
  },
  {
   "cell_type": "markdown",
   "metadata": {},
   "source": [
    "# Figure 5-b"
   ]
  },
  {
   "cell_type": "code",
   "execution_count": 9,
   "metadata": {
    "scrolled": false
   },
   "outputs": [
    {
     "name": "stdout",
     "output_type": "stream",
     "text": [
      "Automatic pdb calling has been turned ON\n"
     ]
    },
    {
     "data": {
      "application/vnd.jupyter.widget-view+json": {
       "model_id": "39d3ce9ca5d345aab3a3ba241ce74e92",
       "version_major": 2,
       "version_minor": 0
      },
      "text/plain": [
       "Canvas(toolbar=Toolbar(toolitems=[('Home', 'Reset original view', 'home', 'home'), ('Back', 'Back to previous …"
      ]
     },
     "metadata": {},
     "output_type": "display_data"
    },
    {
     "name": "stdout",
     "output_type": "stream",
     "text": [
      "[Figure5_b] Parsed histograms in 264.827361 seconds\n",
      "[Figure5_b] Prepared df rows in 0.161678 seconds\n",
      "[Figure5_b] Created df in 0.019760 seconds\n"
     ]
    }
   ],
   "source": [
    "# Shinjuku data:\n",
    "# 1) `${AE_DIR}/Persephone/sosp_aec/base_start.sh shinjuku` on the server\n",
    "# 2) `/psp/Shremote_cfgs/run.py 0 shinjuku SBIM2_IX -p cPREMQ --load-range .05 .60`\n",
    "\n",
    "# Perséphone data:\n",
    "# 1) `${AE_DIR}/Persephone/sosp_aec/base_start.sh Persephone` on the server\n",
    "# 2) `/psp/Shremote_cfgs/run.py 0 psp SBIM2 -p DARC`\n",
    "\n",
    "# Shenango data:\n",
    "# 1) Reboot the machine with Linux 4.15 using pick_kernel.sh\n",
    "# 2) `${AE_DIR}/Persephone/sosp_aec/base_start.sh Shenango` on the server\n",
    "# 3) `/psp/Shremote_cfgs/run.py 0 shenango DISP2 -p CFCFS DFCFS`\n",
    "\n",
    "%pdb on\n",
    "plot_p99s(['Figure5_b'], app='MB', reset_cache=True, use_ylim=True, clients=[0,1,2,3,4,5], value=\"p99.9\", close_all=True, remove_drops=True)"
   ]
  },
  {
   "cell_type": "markdown",
   "metadata": {},
   "source": [
    "# Figure 6"
   ]
  },
  {
   "cell_type": "code",
   "execution_count": null,
   "metadata": {
    "scrolled": false
   },
   "outputs": [],
   "source": [
    "# Shinjuku data:\n",
    "# 1) `${AE_DIR}/Persephone/sosp_aec/base_start.sh shinjuku` on the server\n",
    "# 2) `/psp/Shremote_cfgs/run.py 0 shinjuku SBIM2_IX -p cPREMQ --load-range .05 .90`\n",
    "\n",
    "# Perséphone data:\n",
    "# 1) `${AE_DIR}/Persephone/sosp_aec/base_start.sh Persephone` on the server\n",
    "# 2) `/psp/Shremote_cfgs/run.py 0 psp TPCC -p DARC`\n",
    "\n",
    "# Shenango data:\n",
    "# 1) Reboot the machine with Linux 4.15 using pick_kernel.sh\n",
    "# 2) `${AE_DIR}/Persephone/sosp_aec/base_start.sh Shenango` on the server\n",
    "# 3) `/psp/Shremote_cfgs/run.py 0 shenango TPCC -p CFCFS DFCFS`\n",
    "plot_p99s(['Figure6'], app='MB', ncols=-1, reset_cache=False, use_ylim=True, clients=[0,1,2,3,4,5], value=\"p99.9\", close_all=True, remove_drops=True)"
   ]
  },
  {
   "cell_type": "markdown",
   "metadata": {},
   "source": [
    "# Figure 7"
   ]
  },
  {
   "cell_type": "code",
   "execution_count": 8,
   "metadata": {},
   "outputs": [],
   "source": [
    "# Shinjuku data:\n",
    "# 1) `${AE_DIR}/Persephone/sosp_aec/base_start.sh shinjuku` on the server\n",
    "# 2) `/psp/Shremote_cfgs/run.py 0 shinjuku SBIM2_IX -p ROCKSDB_IX --load-range .05 .80 --app-type ROCKSDB`\n",
    "\n",
    "# Perséphone data:\n",
    "# 1) `${AE_DIR}/Persephone/sosp_aec/base_start.sh Persephone` on the server\n",
    "# 2) `/psp/Shremote_cfgs/run.py 0 psp ROCKSDB -p DARC --app-type ROCKSDB`\n",
    "\n",
    "# Shenango data:\n",
    "# 1) Reboot the machine with Linux 4.15 using pick_kernel.sh\n",
    "# 2) `${AE_DIR}/Persephone/sosp_aec/base_start.sh Shenango` on the server\n",
    "# 3) `/psp/Shremote_cfgs/run.py 0 shenango ROCKSDB -p CFCFS DFCFS --app-type ROCKSDB`"
   ]
  },
  {
   "cell_type": "code",
   "execution_count": 1,
   "metadata": {},
   "outputs": [
    {
     "ename": "NameError",
     "evalue": "name 'plot_p99s' is not defined",
     "output_type": "error",
     "traceback": [
      "\u001b[0;31m---------------------------------------------------------------------------\u001b[0m",
      "\u001b[0;31mNameError\u001b[0m                                 Traceback (most recent call last)",
      "\u001b[0;32m<ipython-input-1-48d18c49e6c8>\u001b[0m in \u001b[0;36m<module>\u001b[0;34m\u001b[0m\n\u001b[0;32m----> 1\u001b[0;31m \u001b[0mplot_p99s\u001b[0m\u001b[0;34m(\u001b[0m\u001b[0;34m[\u001b[0m\u001b[0;34m'Figure7'\u001b[0m\u001b[0;34m]\u001b[0m\u001b[0;34m,\u001b[0m \u001b[0mapp\u001b[0m\u001b[0;34m=\u001b[0m\u001b[0;34m'ROCKSDB'\u001b[0m\u001b[0;34m,\u001b[0m \u001b[0mncols\u001b[0m\u001b[0;34m=\u001b[0m\u001b[0;36m1\u001b[0m\u001b[0;34m,\u001b[0m \u001b[0mreset_cache\u001b[0m\u001b[0;34m=\u001b[0m\u001b[0;32mFalse\u001b[0m\u001b[0;34m,\u001b[0m \u001b[0muse_ylim\u001b[0m\u001b[0;34m=\u001b[0m\u001b[0;32mTrue\u001b[0m\u001b[0;34m,\u001b[0m \u001b[0mclients\u001b[0m\u001b[0;34m=\u001b[0m\u001b[0;34m[\u001b[0m\u001b[0;36m0\u001b[0m\u001b[0;34m,\u001b[0m\u001b[0;36m1\u001b[0m\u001b[0;34m,\u001b[0m\u001b[0;36m2\u001b[0m\u001b[0;34m,\u001b[0m\u001b[0;36m3\u001b[0m\u001b[0;34m,\u001b[0m\u001b[0;36m4\u001b[0m\u001b[0;34m,\u001b[0m\u001b[0;36m5\u001b[0m\u001b[0;34m]\u001b[0m\u001b[0;34m,\u001b[0m \u001b[0mvalue\u001b[0m\u001b[0;34m=\u001b[0m\u001b[0;34m\"p99.9\"\u001b[0m\u001b[0;34m,\u001b[0m \u001b[0mclose_all\u001b[0m\u001b[0;34m=\u001b[0m\u001b[0;32mTrue\u001b[0m\u001b[0;34m,\u001b[0m \u001b[0mremove_drops\u001b[0m\u001b[0;34m=\u001b[0m\u001b[0;32mTrue\u001b[0m\u001b[0;34m)\u001b[0m\u001b[0;34m\u001b[0m\u001b[0;34m\u001b[0m\u001b[0m\n\u001b[0m",
      "\u001b[0;31mNameError\u001b[0m: name 'plot_p99s' is not defined"
     ]
    }
   ],
   "source": [
    "plot_p99s(['Figure7'], app='ROCKSDB', ncols=1, reset_cache=False, use_ylim=True, clients=[0,1,2,3,4,5], value=\"p99.9\", close_all=True, remove_drops=True)"
   ]
  },
  {
   "cell_type": "markdown",
   "metadata": {},
   "source": [
    "# Figure 8"
   ]
  },
  {
   "cell_type": "code",
   "execution_count": 25,
   "metadata": {},
   "outputs": [
    {
     "name": "stdout",
     "output_type": "stream",
     "text": [
      "Automatic pdb calling has been turned ON\n"
     ]
    },
    {
     "data": {
      "application/vnd.jupyter.widget-view+json": {
       "model_id": "7d9deb5a7d3042c7948504a5a2f8e34e",
       "version_major": 2,
       "version_minor": 0
      },
      "text/plain": [
       "Canvas(toolbar=Toolbar(toolitems=[('Home', 'Reset original view', 'home', 'home'), ('Back', 'Back to previous …"
      ]
     },
     "metadata": {},
     "output_type": "display_data"
    },
    {
     "name": "stdout",
     "output_type": "stream",
     "text": [
      "filling between 0.0 and 5.11282762742\n",
      "filling between 5.11282762742 and 10.325906776947\n",
      "filling between 10.325906776947 and 15.538985926473\n",
      "filling between 15.538985926473 and 20.752065076\n",
      "plotted data in 34.255152463912964\n"
     ]
    }
   ],
   "source": [
    "exps = ['DYN-RESA_0.80_sched4_14.40']\n",
    "plot_agg_p99_over_time(exps, reset_cache=False, debug=False)"
   ]
  }
 ],
 "metadata": {
  "kernelspec": {
   "display_name": "Python 3",
   "language": "python",
   "name": "python3"
  },
  "language_info": {
   "codemirror_mode": {
    "name": "ipython",
    "version": 3
   },
   "file_extension": ".py",
   "mimetype": "text/x-python",
   "name": "python",
   "nbconvert_exporter": "python",
   "pygments_lexer": "ipython3",
   "version": "3.6.9"
  }
 },
 "nbformat": 4,
 "nbformat_minor": 4
}
