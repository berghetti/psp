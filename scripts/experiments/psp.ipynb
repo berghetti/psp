{
 "cells": [
  {
   "cell_type": "markdown",
   "metadata": {},
   "source": [
    "#  Running and plotting experiments\n",
    "\n",
    "This notebook provide sample command for running and plotting Perséphone data, such as seen in our SOSP paper. Refer to the \"sosp_aec\" branch of this repo for complete instructions for reproducing the paper's results.\n",
    "- \"plot_p99s\" takes a file containing a list of experiments. You can find example lists in /psp/experiments/[Figure number].\n",
    "- When plotting, if you see a message such as \"/psp/experiments/CFCFS_0.70_DISP2_14.0/client0/traces_rates does not exist\", you will have to run again this data point.\n",
    "- The run.py script can take a --load-range argument. Usage: --load-range [low] [high], where low and high are load bounds used to generate 5% load increments per experiment. For example, --load-range .40 .41 will only run the experiment at 40% load."
   ]
  },
  {
   "cell_type": "code",
   "execution_count": 1,
   "metadata": {},
   "outputs": [
    {
     "data": {
      "text/html": [
       "<style>.container { width:100% !important; }</style>"
      ],
      "text/plain": [
       "<IPython.core.display.HTML object>"
      ]
     },
     "metadata": {},
     "output_type": "display_data"
    }
   ],
   "source": [
    "%matplotlib widget\n",
    "import sys\n",
    "import seaborn as sns\n",
    "import matplotlib\n",
    "import matplotlib.gridspec as gridspec\n",
    "import matplotlib.pyplot as plt\n",
    "import matplotlib.colors as mcolors\n",
    "from matplotlib.ticker import ScalarFormatter\n",
    "from matplotlib import lines\n",
    "import pandas as pd\n",
    "import numpy as np\n",
    "from pathlib import Path\n",
    "from loader import *\n",
    "\n",
    "from IPython.core.display import display, HTML\n",
    "display(HTML(\"<style>.container { width:100% !important; }</style>\"))"
   ]
  },
  {
   "cell_type": "markdown",
   "metadata": {},
   "source": [
    "# Figure 3"
   ]
  },
  {
   "cell_type": "code",
   "execution_count": null,
   "metadata": {
    "scrolled": false
   },
   "outputs": [],
   "source": [
    "# To generate the results, issue the following commands\n",
    "# /psp/scripts/experiments/Shremote_cfgs/run.py 0 psp DISP2 -p DARC CFCFS DFCFS --load-range .05 1.01\n",
    "\n",
    "plot_p99s(['Figure3'], reset_cache=False, use_ylim=True, clients=[0], value=\"p99.9\", close_all=True, remove_drops=True, ncols=1)"
   ]
  },
  {
   "cell_type": "markdown",
   "metadata": {},
   "source": [
    "# Figure 5-b"
   ]
  },
  {
   "cell_type": "code",
   "execution_count": null,
   "metadata": {
    "scrolled": false
   },
   "outputs": [],
   "source": [
    "# `/psp/scripts/experiments/Shremote_cfgs/run.py 0 psp SBIM2 -p DARC --load-range .05 .86`\n",
    "\n",
    "plot_p99s(['Figure5_b'], reset_cache=False, use_ylim=True, clients=[0,1,2,3,4,5], value=\"p99.9\", close_all=True, remove_drops=True)"
   ]
  },
  {
   "cell_type": "markdown",
   "metadata": {},
   "source": [
    "# Figure 6"
   ]
  },
  {
   "cell_type": "code",
   "execution_count": null,
   "metadata": {
    "scrolled": false
   },
   "outputs": [],
   "source": [
    "# `/psp/scripts/experiments/Shremote_cfgs/run.py 0 psp TPCC -p DARC --load-range .05 .91`\n",
    "\n",
    "plot_p99s(['Figure6'], ncols=-1, app='TPCC', reset_cache=True, use_ylim=True, clients=[0,1,2,3,4,5], value=\"p99.9\", close_all=True, remove_drops=True)"
   ]
  },
  {
   "cell_type": "markdown",
   "metadata": {},
   "source": [
    "# Figure 7"
   ]
  },
  {
   "cell_type": "code",
   "execution_count": null,
   "metadata": {},
   "outputs": [],
   "source": [
    "# `/psp/scripts/experiments/Shremote_cfgs/run.py 0 psp ROCKSDB -p DARC --app-type ROCKSDB`\n",
    "\n",
    "plot_p99s(['Figure7'], app='ROCKSDB', ncols=1, reset_cache=True, use_ylim=True, clients=[0,1,2,3,4,5], value=\"p99.9\", close_all=True, remove_drops=True)"
   ]
  }
 ],
 "metadata": {
  "kernelspec": {
   "display_name": "Python 3",
   "language": "python",
   "name": "python3"
  },
  "language_info": {
   "codemirror_mode": {
    "name": "ipython",
    "version": 3
   },
   "file_extension": ".py",
   "mimetype": "text/x-python",
   "name": "python",
   "nbconvert_exporter": "python",
   "pygments_lexer": "ipython3",
   "version": "3.6.9"
  }
 },
 "nbformat": 4,
 "nbformat_minor": 4
}
